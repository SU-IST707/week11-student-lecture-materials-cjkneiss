{
 "cells": [
  {
   "cell_type": "markdown",
   "metadata": {},
   "source": [
    "# Exercise 1: Comparing Network Architectures with the Boston Housing Dataset\n",
    "\n",
    "In this exercise, you'll implement and compare three different neural network architectures using the Boston Housing dataset:\n",
    "1. A basic sequential network\n",
    "2. A wide & deep network\n",
    "3. A wide & deep network with auxiliary output\n",
    "\n",
    "The goal is to understand how different architectures affect model performance and training dynamics.\n",
    "\n",
    "## Setup\n",
    "\n",
    "First, let's import our dependencies and prepare our data:\n"
   ]
  },
  {
   "cell_type": "code",
   "execution_count": 2,
   "metadata": {},
   "outputs": [
    {
     "name": "stdout",
     "output_type": "stream",
     "text": [
      "Requirement already satisfied: tensorflow in /usr/local/python/3.12.1/lib/python3.12/site-packages (2.18.0)\n",
      "Requirement already satisfied: absl-py>=1.0.0 in /usr/local/python/3.12.1/lib/python3.12/site-packages (from tensorflow) (2.1.0)\n",
      "Requirement already satisfied: astunparse>=1.6.0 in /usr/local/python/3.12.1/lib/python3.12/site-packages (from tensorflow) (1.6.3)\n",
      "Requirement already satisfied: flatbuffers>=24.3.25 in /usr/local/python/3.12.1/lib/python3.12/site-packages (from tensorflow) (24.3.25)\n",
      "Requirement already satisfied: gast!=0.5.0,!=0.5.1,!=0.5.2,>=0.2.1 in /usr/local/python/3.12.1/lib/python3.12/site-packages (from tensorflow) (0.6.0)\n",
      "Requirement already satisfied: google-pasta>=0.1.1 in /usr/local/python/3.12.1/lib/python3.12/site-packages (from tensorflow) (0.2.0)\n",
      "Requirement already satisfied: libclang>=13.0.0 in /usr/local/python/3.12.1/lib/python3.12/site-packages (from tensorflow) (18.1.1)\n",
      "Requirement already satisfied: opt-einsum>=2.3.2 in /usr/local/python/3.12.1/lib/python3.12/site-packages (from tensorflow) (3.4.0)\n",
      "Requirement already satisfied: packaging in /home/codespace/.local/lib/python3.12/site-packages (from tensorflow) (24.1)\n",
      "Requirement already satisfied: protobuf!=4.21.0,!=4.21.1,!=4.21.2,!=4.21.3,!=4.21.4,!=4.21.5,<6.0.0dev,>=3.20.3 in /usr/local/python/3.12.1/lib/python3.12/site-packages (from tensorflow) (5.28.3)\n",
      "Requirement already satisfied: requests<3,>=2.21.0 in /home/codespace/.local/lib/python3.12/site-packages (from tensorflow) (2.32.3)\n",
      "Requirement already satisfied: setuptools in /home/codespace/.local/lib/python3.12/site-packages (from tensorflow) (75.1.0)\n",
      "Requirement already satisfied: six>=1.12.0 in /home/codespace/.local/lib/python3.12/site-packages (from tensorflow) (1.16.0)\n",
      "Requirement already satisfied: termcolor>=1.1.0 in /usr/local/python/3.12.1/lib/python3.12/site-packages (from tensorflow) (2.5.0)\n",
      "Requirement already satisfied: typing-extensions>=3.6.6 in /home/codespace/.local/lib/python3.12/site-packages (from tensorflow) (4.9.0)\n",
      "Requirement already satisfied: wrapt>=1.11.0 in /usr/local/python/3.12.1/lib/python3.12/site-packages (from tensorflow) (1.16.0)\n",
      "Requirement already satisfied: grpcio<2.0,>=1.24.3 in /usr/local/python/3.12.1/lib/python3.12/site-packages (from tensorflow) (1.67.1)\n",
      "Requirement already satisfied: tensorboard<2.19,>=2.18 in /usr/local/python/3.12.1/lib/python3.12/site-packages (from tensorflow) (2.18.0)\n",
      "Requirement already satisfied: keras>=3.5.0 in /usr/local/python/3.12.1/lib/python3.12/site-packages (from tensorflow) (3.6.0)\n",
      "Requirement already satisfied: numpy<2.1.0,>=1.26.0 in /usr/local/python/3.12.1/lib/python3.12/site-packages (from tensorflow) (2.0.2)\n",
      "Requirement already satisfied: h5py>=3.11.0 in /usr/local/python/3.12.1/lib/python3.12/site-packages (from tensorflow) (3.12.1)\n",
      "Requirement already satisfied: ml-dtypes<0.5.0,>=0.4.0 in /usr/local/python/3.12.1/lib/python3.12/site-packages (from tensorflow) (0.4.1)\n",
      "Requirement already satisfied: wheel<1.0,>=0.23.0 in /usr/local/python/3.12.1/lib/python3.12/site-packages (from astunparse>=1.6.0->tensorflow) (0.44.0)\n",
      "Requirement already satisfied: rich in /usr/local/python/3.12.1/lib/python3.12/site-packages (from keras>=3.5.0->tensorflow) (13.9.4)\n",
      "Requirement already satisfied: namex in /usr/local/python/3.12.1/lib/python3.12/site-packages (from keras>=3.5.0->tensorflow) (0.0.8)\n",
      "Requirement already satisfied: optree in /usr/local/python/3.12.1/lib/python3.12/site-packages (from keras>=3.5.0->tensorflow) (0.13.0)\n",
      "Requirement already satisfied: charset-normalizer<4,>=2 in /home/codespace/.local/lib/python3.12/site-packages (from requests<3,>=2.21.0->tensorflow) (3.3.2)\n",
      "Requirement already satisfied: idna<4,>=2.5 in /home/codespace/.local/lib/python3.12/site-packages (from requests<3,>=2.21.0->tensorflow) (3.10)\n",
      "Requirement already satisfied: urllib3<3,>=1.21.1 in /home/codespace/.local/lib/python3.12/site-packages (from requests<3,>=2.21.0->tensorflow) (2.2.3)\n",
      "Requirement already satisfied: certifi>=2017.4.17 in /home/codespace/.local/lib/python3.12/site-packages (from requests<3,>=2.21.0->tensorflow) (2024.8.30)\n",
      "Requirement already satisfied: markdown>=2.6.8 in /usr/local/python/3.12.1/lib/python3.12/site-packages (from tensorboard<2.19,>=2.18->tensorflow) (3.7)\n",
      "Requirement already satisfied: tensorboard-data-server<0.8.0,>=0.7.0 in /usr/local/python/3.12.1/lib/python3.12/site-packages (from tensorboard<2.19,>=2.18->tensorflow) (0.7.2)\n",
      "Requirement already satisfied: werkzeug>=1.0.1 in /usr/local/python/3.12.1/lib/python3.12/site-packages (from tensorboard<2.19,>=2.18->tensorflow) (3.1.2)\n",
      "Requirement already satisfied: MarkupSafe>=2.1.1 in /home/codespace/.local/lib/python3.12/site-packages (from werkzeug>=1.0.1->tensorboard<2.19,>=2.18->tensorflow) (2.1.5)\n",
      "Requirement already satisfied: markdown-it-py>=2.2.0 in /usr/local/python/3.12.1/lib/python3.12/site-packages (from rich->keras>=3.5.0->tensorflow) (3.0.0)\n",
      "Requirement already satisfied: pygments<3.0.0,>=2.13.0 in /home/codespace/.local/lib/python3.12/site-packages (from rich->keras>=3.5.0->tensorflow) (2.18.0)\n",
      "Requirement already satisfied: mdurl~=0.1 in /usr/local/python/3.12.1/lib/python3.12/site-packages (from markdown-it-py>=2.2.0->rich->keras>=3.5.0->tensorflow) (0.1.2)\n",
      "\n",
      "\u001b[1m[\u001b[0m\u001b[34;49mnotice\u001b[0m\u001b[1;39;49m]\u001b[0m\u001b[39;49m A new release of pip is available: \u001b[0m\u001b[31;49m24.2\u001b[0m\u001b[39;49m -> \u001b[0m\u001b[32;49m24.3.1\u001b[0m\n",
      "\u001b[1m[\u001b[0m\u001b[34;49mnotice\u001b[0m\u001b[1;39;49m]\u001b[0m\u001b[39;49m To update, run: \u001b[0m\u001b[32;49mpython3 -m pip install --upgrade pip\u001b[0m\n"
     ]
    }
   ],
   "source": [
    "!pip install tensorflow"
   ]
  },
  {
   "cell_type": "code",
   "execution_count": 3,
   "metadata": {},
   "outputs": [
    {
     "name": "stderr",
     "output_type": "stream",
     "text": [
      "2024-11-06 16:45:06.540189: I external/local_xla/xla/tsl/cuda/cudart_stub.cc:32] Could not find cuda drivers on your machine, GPU will not be used.\n",
      "2024-11-06 16:45:06.543921: I external/local_xla/xla/tsl/cuda/cudart_stub.cc:32] Could not find cuda drivers on your machine, GPU will not be used.\n",
      "2024-11-06 16:45:06.553242: E external/local_xla/xla/stream_executor/cuda/cuda_fft.cc:477] Unable to register cuFFT factory: Attempting to register factory for plugin cuFFT when one has already been registered\n",
      "WARNING: All log messages before absl::InitializeLog() is called are written to STDERR\n",
      "E0000 00:00:1730911506.567690   29641 cuda_dnn.cc:8310] Unable to register cuDNN factory: Attempting to register factory for plugin cuDNN when one has already been registered\n",
      "E0000 00:00:1730911506.572009   29641 cuda_blas.cc:1418] Unable to register cuBLAS factory: Attempting to register factory for plugin cuBLAS when one has already been registered\n",
      "2024-11-06 16:45:06.588302: I tensorflow/core/platform/cpu_feature_guard.cc:210] This TensorFlow binary is optimized to use available CPU instructions in performance-critical operations.\n",
      "To enable the following instructions: AVX2 FMA, in other operations, rebuild TensorFlow with the appropriate compiler flags.\n"
     ]
    }
   ],
   "source": [
    "\n",
    "import tensorflow as tf\n",
    "import numpy as np\n",
    "import pandas as pd\n",
    "import matplotlib.pyplot as plt\n",
    "from sklearn.model_selection import train_test_split\n",
    "from sklearn.preprocessing import StandardScaler\n",
    "\n",
    "# Load the Boston Housing dataset\n",
    "(X_full, y_full), _ = tf.keras.datasets.boston_housing.load_data()\n",
    "\n",
    "# Split the data\n",
    "X_train_full, X_test, y_train_full, y_test = train_test_split(\n",
    "    X_full, y_full, test_size=0.2, random_state=42)\n",
    "X_train, X_valid, y_train, y_valid = train_test_split(\n",
    "    X_train_full, y_train_full, test_size=0.2, random_state=42)\n",
    "\n",
    "# Scale the inputs\n",
    "scaler = StandardScaler()\n",
    "X_train_scaled = scaler.fit_transform(X_train)\n",
    "X_valid_scaled = scaler.transform(X_valid)\n",
    "X_test_scaled = scaler.transform(X_test)\n",
    "\n",
    "# Function to plot training history\n",
    "def plot_learning_curves(history):\n",
    "    pd.DataFrame(history.history).plot(figsize=(8, 5))\n",
    "    plt.grid(True)\n",
    "    plt.xlabel(\"Epoch\")\n",
    "    plt.show()\n"
   ]
  },
  {
   "cell_type": "markdown",
   "metadata": {},
   "source": [
    "\n",
    "\n",
    "## Part 1: Sequential Model\n",
    "\n",
    "Implement a basic sequential model with three dense layers. Use ReLU activation for hidden layers.\n"
   ]
  },
  {
   "cell_type": "code",
   "execution_count": 4,
   "metadata": {},
   "outputs": [
    {
     "name": "stdout",
     "output_type": "stream",
     "text": [
      "Epoch 1/20\n"
     ]
    },
    {
     "name": "stderr",
     "output_type": "stream",
     "text": [
      "/home/codespace/.python/current/lib/python3.12/site-packages/keras/src/layers/core/input_layer.py:26: UserWarning: Argument `input_shape` is deprecated. Use `shape` instead.\n",
      "  warnings.warn(\n",
      "2024-11-06 16:45:12.917540: E external/local_xla/xla/stream_executor/cuda/cuda_driver.cc:152] failed call to cuInit: INTERNAL: CUDA error: Failed call to cuInit: UNKNOWN ERROR (303)\n"
     ]
    },
    {
     "name": "stdout",
     "output_type": "stream",
     "text": [
      "\u001b[1m9/9\u001b[0m \u001b[32m━━━━━━━━━━━━━━━━━━━━\u001b[0m\u001b[37m\u001b[0m \u001b[1m1s\u001b[0m 18ms/step - RootMeanSquaredError: 26.0045 - loss: 676.3527 - val_RootMeanSquaredError: 25.3140 - val_loss: 640.7995\n",
      "Epoch 2/20\n",
      "\u001b[1m9/9\u001b[0m \u001b[32m━━━━━━━━━━━━━━━━━━━━\u001b[0m\u001b[37m\u001b[0m \u001b[1m0s\u001b[0m 3ms/step - RootMeanSquaredError: 24.9412 - loss: 622.2031 - val_RootMeanSquaredError: 24.6134 - val_loss: 605.8214\n",
      "Epoch 3/20\n",
      "\u001b[1m9/9\u001b[0m \u001b[32m━━━━━━━━━━━━━━━━━━━━\u001b[0m\u001b[37m\u001b[0m \u001b[1m0s\u001b[0m 3ms/step - RootMeanSquaredError: 24.7630 - loss: 614.0312 - val_RootMeanSquaredError: 23.8920 - val_loss: 570.8268\n",
      "Epoch 4/20\n",
      "\u001b[1m9/9\u001b[0m \u001b[32m━━━━━━━━━━━━━━━━━━━━\u001b[0m\u001b[37m\u001b[0m \u001b[1m0s\u001b[0m 3ms/step - RootMeanSquaredError: 24.0455 - loss: 578.5791 - val_RootMeanSquaredError: 23.1069 - val_loss: 533.9296\n",
      "Epoch 5/20\n",
      "\u001b[1m9/9\u001b[0m \u001b[32m━━━━━━━━━━━━━━━━━━━━\u001b[0m\u001b[37m\u001b[0m \u001b[1m0s\u001b[0m 4ms/step - RootMeanSquaredError: 23.2635 - loss: 541.8948 - val_RootMeanSquaredError: 22.2420 - val_loss: 494.7062\n",
      "Epoch 6/20\n",
      "\u001b[1m9/9\u001b[0m \u001b[32m━━━━━━━━━━━━━━━━━━━━\u001b[0m\u001b[37m\u001b[0m \u001b[1m0s\u001b[0m 3ms/step - RootMeanSquaredError: 22.4504 - loss: 504.2087 - val_RootMeanSquaredError: 21.2805 - val_loss: 452.8593\n",
      "Epoch 7/20\n",
      "\u001b[1m9/9\u001b[0m \u001b[32m━━━━━━━━━━━━━━━━━━━━\u001b[0m\u001b[37m\u001b[0m \u001b[1m0s\u001b[0m 3ms/step - RootMeanSquaredError: 20.9967 - loss: 440.9629 - val_RootMeanSquaredError: 20.2159 - val_loss: 408.6808\n",
      "Epoch 8/20\n",
      "\u001b[1m9/9\u001b[0m \u001b[32m━━━━━━━━━━━━━━━━━━━━\u001b[0m\u001b[37m\u001b[0m \u001b[1m0s\u001b[0m 3ms/step - RootMeanSquaredError: 19.3503 - loss: 374.8663 - val_RootMeanSquaredError: 19.0566 - val_loss: 363.1535\n",
      "Epoch 9/20\n",
      "\u001b[1m9/9\u001b[0m \u001b[32m━━━━━━━━━━━━━━━━━━━━\u001b[0m\u001b[37m\u001b[0m \u001b[1m0s\u001b[0m 3ms/step - RootMeanSquaredError: 18.7363 - loss: 351.3332 - val_RootMeanSquaredError: 17.7750 - val_loss: 315.9517\n",
      "Epoch 10/20\n",
      "\u001b[1m9/9\u001b[0m \u001b[32m━━━━━━━━━━━━━━━━━━━━\u001b[0m\u001b[37m\u001b[0m \u001b[1m0s\u001b[0m 3ms/step - RootMeanSquaredError: 17.1787 - loss: 296.2744 - val_RootMeanSquaredError: 16.3737 - val_loss: 268.0967\n",
      "Epoch 11/20\n",
      "\u001b[1m9/9\u001b[0m \u001b[32m━━━━━━━━━━━━━━━━━━━━\u001b[0m\u001b[37m\u001b[0m \u001b[1m0s\u001b[0m 6ms/step - RootMeanSquaredError: 17.0152 - loss: 291.1928 - val_RootMeanSquaredError: 14.9028 - val_loss: 222.0949\n",
      "Epoch 12/20\n",
      "\u001b[1m9/9\u001b[0m \u001b[32m━━━━━━━━━━━━━━━━━━━━\u001b[0m\u001b[37m\u001b[0m \u001b[1m0s\u001b[0m 9ms/step - RootMeanSquaredError: 15.1556 - loss: 229.8997 - val_RootMeanSquaredError: 13.4140 - val_loss: 179.9363\n",
      "Epoch 13/20\n",
      "\u001b[1m9/9\u001b[0m \u001b[32m━━━━━━━━━━━━━━━━━━━━\u001b[0m\u001b[37m\u001b[0m \u001b[1m0s\u001b[0m 13ms/step - RootMeanSquaredError: 14.9467 - loss: 225.7704 - val_RootMeanSquaredError: 11.9374 - val_loss: 142.5023\n",
      "Epoch 14/20\n",
      "\u001b[1m9/9\u001b[0m \u001b[32m━━━━━━━━━━━━━━━━━━━━\u001b[0m\u001b[37m\u001b[0m \u001b[1m0s\u001b[0m 10ms/step - RootMeanSquaredError: 12.8211 - loss: 164.7611 - val_RootMeanSquaredError: 10.6274 - val_loss: 112.9422\n",
      "Epoch 15/20\n",
      "\u001b[1m9/9\u001b[0m \u001b[32m━━━━━━━━━━━━━━━━━━━━\u001b[0m\u001b[37m\u001b[0m \u001b[1m0s\u001b[0m 4ms/step - RootMeanSquaredError: 10.5263 - loss: 111.1651 - val_RootMeanSquaredError: 9.5143 - val_loss: 90.5226\n",
      "Epoch 16/20\n",
      "\u001b[1m9/9\u001b[0m \u001b[32m━━━━━━━━━━━━━━━━━━━━\u001b[0m\u001b[37m\u001b[0m \u001b[1m0s\u001b[0m 3ms/step - RootMeanSquaredError: 10.3937 - loss: 108.1816 - val_RootMeanSquaredError: 8.6662 - val_loss: 75.1027\n",
      "Epoch 17/20\n",
      "\u001b[1m9/9\u001b[0m \u001b[32m━━━━━━━━━━━━━━━━━━━━\u001b[0m\u001b[37m\u001b[0m \u001b[1m0s\u001b[0m 3ms/step - RootMeanSquaredError: 8.7268 - loss: 76.3751 - val_RootMeanSquaredError: 8.0883 - val_loss: 65.4199\n",
      "Epoch 18/20\n",
      "\u001b[1m9/9\u001b[0m \u001b[32m━━━━━━━━━━━━━━━━━━━━\u001b[0m\u001b[37m\u001b[0m \u001b[1m0s\u001b[0m 4ms/step - RootMeanSquaredError: 9.3528 - loss: 88.1184 - val_RootMeanSquaredError: 7.6361 - val_loss: 58.3101\n",
      "Epoch 19/20\n",
      "\u001b[1m9/9\u001b[0m \u001b[32m━━━━━━━━━━━━━━━━━━━━\u001b[0m\u001b[37m\u001b[0m \u001b[1m0s\u001b[0m 3ms/step - RootMeanSquaredError: 8.1729 - loss: 66.8833 - val_RootMeanSquaredError: 7.2272 - val_loss: 52.2331\n",
      "Epoch 20/20\n",
      "\u001b[1m9/9\u001b[0m \u001b[32m━━━━━━━━━━━━━━━━━━━━\u001b[0m\u001b[37m\u001b[0m \u001b[1m0s\u001b[0m 3ms/step - RootMeanSquaredError: 7.7636 - loss: 60.5592 - val_RootMeanSquaredError: 6.8401 - val_loss: 46.7872\n"
     ]
    },
    {
     "data": {
      "image/png": "[encoded data removed]",
      "text/plain": [
       "<Figure size 800x500 with 1 Axes>"
      ]
     },
     "metadata": {},
     "output_type": "display_data"
    }
   ],
   "source": [
    "\n",
    "def create_sequential_model():\n",
    "    model = tf.keras.models.Sequential([\n",
    "        tf.keras.layers.InputLayer(input_shape=(13,)),  # Input layer with 13 features\n",
    "        tf.keras.layers.Dense(30, activation=\"relu\", kernel_initializer=\"he_normal\"),  # First hidden layer\n",
    "        tf.keras.layers.Dense(30, activation=\"relu\", kernel_initializer=\"he_normal\"),  # Second hidden layer\n",
    "        tf.keras.layers.Dense(1)                                    # Output layer (no activation for regression)\n",
    "    ])\n",
    "    return model\n",
    "\n",
    "# Training\n",
    "model_sequential = create_sequential_model()\n",
    "model_sequential.compile(loss=\"mse\", optimizer=\"adam\", metrics=[\"RootMeanSquaredError\"])\n",
    "history_sequential = model_sequential.fit(\n",
    "    X_train_scaled, y_train, \n",
    "    epochs=20,\n",
    "    validation_data=(X_valid_scaled, y_valid))\n",
    "\n",
    "plot_learning_curves(history_sequential)\n"
   ]
  },
  {
   "cell_type": "markdown",
   "metadata": {},
   "source": [
    "\n",
    "## Part 2: Wide & Deep Model\n",
    "\n",
    "Create a wide & deep model using the Functional API. Split the input features into two groups:\n",
    "- Wide path: Features 0-5 (size-related features)\n",
    "- Deep path: Features 6-12 (location and age-related features)\n"
   ]
  },
  {
   "cell_type": "code",
   "execution_count": 5,
   "metadata": {},
   "outputs": [
    {
     "name": "stdout",
     "output_type": "stream",
     "text": [
      "Epoch 1/20\n"
     ]
    },
    {
     "name": "stderr",
     "output_type": "stream",
     "text": [
      "/home/codespace/.python/current/lib/python3.12/site-packages/keras/src/models/functional.py:225: UserWarning: The structure of `inputs` doesn't match the expected structure: ['keras_tensor_4', 'keras_tensor_6']. Received: the structure of inputs=('*', '*')\n",
      "  warnings.warn(\n"
     ]
    },
    {
     "name": "stdout",
     "output_type": "stream",
     "text": [
      "\u001b[1m9/9\u001b[0m \u001b[32m━━━━━━━━━━━━━━━━━━━━\u001b[0m\u001b[37m\u001b[0m \u001b[1m1s\u001b[0m 25ms/step - RootMeanSquaredError: 24.3846 - loss: 594.7899 - val_RootMeanSquaredError: 23.5674 - val_loss: 555.4231\n",
      "Epoch 2/20\n",
      "\u001b[1m9/9\u001b[0m \u001b[32m━━━━━━━━━━━━━━━━━━━━\u001b[0m\u001b[37m\u001b[0m \u001b[1m0s\u001b[0m 4ms/step - RootMeanSquaredError: 23.0922 - loss: 533.8295 - val_RootMeanSquaredError: 22.8446 - val_loss: 521.8769\n",
      "Epoch 3/20\n",
      "\u001b[1m9/9\u001b[0m \u001b[32m━━━━━━━━━━━━━━━━━━━━\u001b[0m\u001b[37m\u001b[0m \u001b[1m0s\u001b[0m 4ms/step - RootMeanSquaredError: 22.8528 - loss: 522.6405 - val_RootMeanSquaredError: 22.0325 - val_loss: 485.4313\n",
      "Epoch 4/20\n",
      "\u001b[1m9/9\u001b[0m \u001b[32m━━━━━━━━━━━━━━━━━━━━\u001b[0m\u001b[37m\u001b[0m \u001b[1m0s\u001b[0m 3ms/step - RootMeanSquaredError: 22.0543 - loss: 486.6049 - val_RootMeanSquaredError: 21.1194 - val_loss: 446.0304\n",
      "Epoch 5/20\n",
      "\u001b[1m9/9\u001b[0m \u001b[32m━━━━━━━━━━━━━━━━━━━━\u001b[0m\u001b[37m\u001b[0m \u001b[1m0s\u001b[0m 4ms/step - RootMeanSquaredError: 21.5934 - loss: 466.6680 - val_RootMeanSquaredError: 20.0533 - val_loss: 402.1340\n",
      "Epoch 6/20\n",
      "\u001b[1m9/9\u001b[0m \u001b[32m━━━━━━━━━━━━━━━━━━━━\u001b[0m\u001b[37m\u001b[0m \u001b[1m0s\u001b[0m 5ms/step - RootMeanSquaredError: 20.7172 - loss: 429.9738 - val_RootMeanSquaredError: 18.8499 - val_loss: 355.3188\n",
      "Epoch 7/20\n",
      "\u001b[1m9/9\u001b[0m \u001b[32m━━━━━━━━━━━━━━━━━━━━\u001b[0m\u001b[37m\u001b[0m \u001b[1m0s\u001b[0m 4ms/step - RootMeanSquaredError: 18.9743 - loss: 360.1452 - val_RootMeanSquaredError: 17.4342 - val_loss: 303.9503\n",
      "Epoch 8/20\n",
      "\u001b[1m9/9\u001b[0m \u001b[32m━━━━━━━━━━━━━━━━━━━━\u001b[0m\u001b[37m\u001b[0m \u001b[1m0s\u001b[0m 5ms/step - RootMeanSquaredError: 16.9902 - loss: 289.0358 - val_RootMeanSquaredError: 15.8709 - val_loss: 251.8855\n",
      "Epoch 9/20\n",
      "\u001b[1m9/9\u001b[0m \u001b[32m━━━━━━━━━━━━━━━━━━━━\u001b[0m\u001b[37m\u001b[0m \u001b[1m0s\u001b[0m 6ms/step - RootMeanSquaredError: 15.9054 - loss: 252.9933 - val_RootMeanSquaredError: 14.1529 - val_loss: 200.3057\n",
      "Epoch 10/20\n",
      "\u001b[1m9/9\u001b[0m \u001b[32m━━━━━━━━━━━━━━━━━━━━\u001b[0m\u001b[37m\u001b[0m \u001b[1m0s\u001b[0m 5ms/step - RootMeanSquaredError: 14.1543 - loss: 200.5060 - val_RootMeanSquaredError: 12.1628 - val_loss: 147.9347\n",
      "Epoch 11/20\n",
      "\u001b[1m9/9\u001b[0m \u001b[32m━━━━━━━━━━━━━━━━━━━━\u001b[0m\u001b[37m\u001b[0m \u001b[1m0s\u001b[0m 4ms/step - RootMeanSquaredError: 13.0364 - loss: 170.4042 - val_RootMeanSquaredError: 10.0802 - val_loss: 101.6101\n",
      "Epoch 12/20\n",
      "\u001b[1m9/9\u001b[0m \u001b[32m━━━━━━━━━━━━━━━━━━━━\u001b[0m\u001b[37m\u001b[0m \u001b[1m0s\u001b[0m 4ms/step - RootMeanSquaredError: 11.9295 - loss: 143.0154 - val_RootMeanSquaredError: 8.1637 - val_loss: 66.6462\n",
      "Epoch 13/20\n",
      "\u001b[1m9/9\u001b[0m \u001b[32m━━━━━━━━━━━━━━━━━━━━\u001b[0m\u001b[37m\u001b[0m \u001b[1m0s\u001b[0m 6ms/step - RootMeanSquaredError: 9.6105 - loss: 93.1655 - val_RootMeanSquaredError: 6.7086 - val_loss: 45.0047\n",
      "Epoch 14/20\n",
      "\u001b[1m9/9\u001b[0m \u001b[32m━━━━━━━━━━━━━━━━━━━━\u001b[0m\u001b[37m\u001b[0m \u001b[1m0s\u001b[0m 5ms/step - RootMeanSquaredError: 8.3453 - loss: 69.8142 - val_RootMeanSquaredError: 5.8924 - val_loss: 34.7204\n",
      "Epoch 15/20\n",
      "\u001b[1m9/9\u001b[0m \u001b[32m━━━━━━━━━━━━━━━━━━━━\u001b[0m\u001b[37m\u001b[0m \u001b[1m0s\u001b[0m 5ms/step - RootMeanSquaredError: 7.9269 - loss: 63.0508 - val_RootMeanSquaredError: 5.5463 - val_loss: 30.7613\n",
      "Epoch 16/20\n",
      "\u001b[1m9/9\u001b[0m \u001b[32m━━━━━━━━━━━━━━━━━━━━\u001b[0m\u001b[37m\u001b[0m \u001b[1m0s\u001b[0m 6ms/step - RootMeanSquaredError: 7.8080 - loss: 61.2578 - val_RootMeanSquaredError: 5.4523 - val_loss: 29.7270\n",
      "Epoch 17/20\n",
      "\u001b[1m9/9\u001b[0m \u001b[32m━━━━━━━━━━━━━━━━━━━━\u001b[0m\u001b[37m\u001b[0m \u001b[1m0s\u001b[0m 3ms/step - RootMeanSquaredError: 8.2451 - loss: 68.1376 - val_RootMeanSquaredError: 5.4191 - val_loss: 29.3670\n",
      "Epoch 18/20\n",
      "\u001b[1m9/9\u001b[0m \u001b[32m━━━━━━━━━━━━━━━━━━━━\u001b[0m\u001b[37m\u001b[0m \u001b[1m0s\u001b[0m 3ms/step - RootMeanSquaredError: 7.9846 - loss: 63.8836 - val_RootMeanSquaredError: 5.3713 - val_loss: 28.8511\n",
      "Epoch 19/20\n",
      "\u001b[1m9/9\u001b[0m \u001b[32m━━━━━━━━━━━━━━━━━━━━\u001b[0m\u001b[37m\u001b[0m \u001b[1m0s\u001b[0m 4ms/step - RootMeanSquaredError: 7.1616 - loss: 51.5136 - val_RootMeanSquaredError: 5.2917 - val_loss: 28.0024\n",
      "Epoch 20/20\n",
      "\u001b[1m9/9\u001b[0m \u001b[32m━━━━━━━━━━━━━━━━━━━━\u001b[0m\u001b[37m\u001b[0m \u001b[1m0s\u001b[0m 3ms/step - RootMeanSquaredError: 6.8532 - loss: 47.1685 - val_RootMeanSquaredError: 5.1428 - val_loss: 26.4489\n"
     ]
    },
    {
     "data": {
      "image/png": "[encoded data removed]",
      "text/plain": [
       "<Figure size 800x500 with 1 Axes>"
      ]
     },
     "metadata": {},
     "output_type": "display_data"
    }
   ],
   "source": [
    "\n",
    "def create_wide_and_deep_model():\n",
    "    # Wide path\n",
    "    input_wide = tf.keras.layers.Input(shape=(13,))\n",
    "    wide_normalized = tf.keras.layers.BatchNormalization()(input_wide) # Normalize the wide path input\n",
    "\n",
    "    # Deep path\n",
    "    input_deep = tf.keras.layers.Input(shape=(13,))\n",
    "    deep_normalized = tf.keras.layers.BatchNormalization()(input_deep) # Normalize the deep path input\n",
    "    hidden1 = tf.keras.layers.Dense(30, activation=\"relu\", kernel_initializer=\"he_normal\")(deep_normalized)\n",
    "    hidden2 = tf.keras.layers.Dense(30, activation=\"relu\", kernel_initializer=\"he_normal\")(hidden1)\n",
    "\n",
    "    # Concatenate the outputs of wide and deep paths\n",
    "    concatenated = tf.keras.layers.concatenate([wide_normalized, hidden2])\n",
    "\n",
    "    # Output layer\n",
    "    output = tf.keras.layers.Dense(1)(concatenated)\n",
    "\n",
    "    # Model creation\n",
    "    model = tf.keras.models.Model(inputs=[input_wide, input_deep], outputs=output)\n",
    "    return model\n",
    "\n",
    "# Training\n",
    "model_wide_deep = create_wide_and_deep_model()\n",
    "model_wide_deep.compile(loss=\"mse\", optimizer=\"adam\", metrics=[\"RootMeanSquaredError\"])\n",
    "\n",
    "# TODO: Prepare the wide and deep inputs\n",
    "X_train_wide, X_train_deep = X_train_scaled, X_train_scaled\n",
    "X_valid_wide, X_valid_deep = X_valid_scaled, X_valid_scaled\n",
    "X_test_wide, X_test_deep = X_test_scaled, X_test_scaled\n",
    "\n",
    "history_wide_deep = model_wide_deep.fit(\n",
    "    [X_train_wide, X_train_deep], y_train,\n",
    "    epochs=20,\n",
    "    validation_data=([X_valid_wide, X_valid_deep], y_valid))\n",
    "\n",
    "plot_learning_curves(history_wide_deep)\n"
   ]
  },
  {
   "cell_type": "markdown",
   "metadata": {},
   "source": [
    "\n",
    "\n",
    "## Part 3: Wide & Deep Model with Auxiliary Output\n",
    "\n",
    "Enhance the wide & deep model by adding an auxiliary output from the deep path.\n"
   ]
  },
  {
   "cell_type": "code",
   "execution_count": 6,
   "metadata": {},
   "outputs": [
    {
     "name": "stdout",
     "output_type": "stream",
     "text": [
      "Epoch 1/20\n"
     ]
    },
    {
     "name": "stderr",
     "output_type": "stream",
     "text": [
      "/home/codespace/.python/current/lib/python3.12/site-packages/keras/src/models/functional.py:225: UserWarning: The structure of `inputs` doesn't match the expected structure: ['keras_tensor_12', 'keras_tensor_14']. Received: the structure of inputs=('*', '*')\n",
      "  warnings.warn(\n"
     ]
    },
    {
     "name": "stdout",
     "output_type": "stream",
     "text": [
      "\u001b[1m9/9\u001b[0m \u001b[32m━━━━━━━━━━━━━━━━━━━━\u001b[0m\u001b[37m\u001b[0m \u001b[1m2s\u001b[0m 26ms/step - aux_output_RootMeanSquaredError: 24.5054 - aux_output_loss: 62.5888 - dense_8_RootMeanSquaredError: 24.2107 - dense_8_loss: 548.1835 - loss: 587.6563 - val_aux_output_RootMeanSquaredError: 25.2454 - val_aux_output_loss: 60.7370 - val_dense_8_RootMeanSquaredError: 23.9353 - val_dense_8_loss: 494.0971 - val_loss: 579.3417\n",
      "Epoch 2/20\n",
      "\u001b[1m9/9\u001b[0m \u001b[32m━━━━━━━━━━━━━━━━━━━━\u001b[0m\u001b[37m\u001b[0m \u001b[1m0s\u001b[0m 6ms/step - aux_output_RootMeanSquaredError: 24.1600 - aux_output_loss: 57.9882 - dense_8_RootMeanSquaredError: 23.0549 - dense_8_loss: 475.6212 - loss: 537.5167 - val_aux_output_RootMeanSquaredError: 25.3748 - val_aux_output_loss: 61.3986 - val_dense_8_RootMeanSquaredError: 23.3147 - val_dense_8_loss: 469.9856 - val_loss: 553.6039\n",
      "Epoch 3/20\n",
      "\u001b[1m9/9\u001b[0m \u001b[32m━━━━━━━━━━━━━━━━━━━━\u001b[0m\u001b[37m\u001b[0m \u001b[1m0s\u001b[0m 8ms/step - aux_output_RootMeanSquaredError: 25.3079 - aux_output_loss: 63.0022 - dense_8_RootMeanSquaredError: 23.5096 - dense_8_loss: 489.2296 - loss: 561.5973 - val_aux_output_RootMeanSquaredError: 25.4615 - val_aux_output_loss: 61.8775 - val_dense_8_RootMeanSquaredError: 22.6207 - val_dense_8_loss: 443.5269 - val_loss: 525.3551\n",
      "Epoch 4/20\n",
      "\u001b[1m9/9\u001b[0m \u001b[32m━━━━━━━━━━━━━━━━━━━━\u001b[0m\u001b[37m\u001b[0m \u001b[1m0s\u001b[0m 7ms/step - aux_output_RootMeanSquaredError: 24.7762 - aux_output_loss: 61.2131 - dense_8_RootMeanSquaredError: 22.2638 - dense_8_loss: 444.2849 - loss: 507.7024 - val_aux_output_RootMeanSquaredError: 25.5060 - val_aux_output_loss: 62.2333 - val_dense_8_RootMeanSquaredError: 21.8789 - val_dense_8_loss: 415.8395 - val_loss: 495.8746\n",
      "Epoch 5/20\n",
      "\u001b[1m9/9\u001b[0m \u001b[32m━━━━━━━━━━━━━━━━━━━━\u001b[0m\u001b[37m\u001b[0m \u001b[1m0s\u001b[0m 6ms/step - aux_output_RootMeanSquaredError: 25.0967 - aux_output_loss: 62.4486 - dense_8_RootMeanSquaredError: 21.9777 - dense_8_loss: 429.5732 - loss: 497.9497 - val_aux_output_RootMeanSquaredError: 25.4876 - val_aux_output_loss: 62.3409 - val_dense_8_RootMeanSquaredError: 21.0427 - val_dense_8_loss: 385.0480 - val_loss: 463.4785\n",
      "Epoch 6/20\n",
      "\u001b[1m9/9\u001b[0m \u001b[32m━━━━━━━━━━━━━━━━━━━━\u001b[0m\u001b[37m\u001b[0m \u001b[1m0s\u001b[0m 4ms/step - aux_output_RootMeanSquaredError: 25.1988 - aux_output_loss: 63.1031 - dense_8_RootMeanSquaredError: 21.1887 - dense_8_loss: 400.2416 - loss: 467.7827 - val_aux_output_RootMeanSquaredError: 25.3795 - val_aux_output_loss: 62.0571 - val_dense_8_RootMeanSquaredError: 20.0737 - val_dense_8_loss: 350.7639 - val_loss: 427.0710\n",
      "Epoch 7/20\n",
      "\u001b[1m9/9\u001b[0m \u001b[32m━━━━━━━━━━━━━━━━━━━━\u001b[0m\u001b[37m\u001b[0m \u001b[1m0s\u001b[0m 5ms/step - aux_output_RootMeanSquaredError: 24.6260 - aux_output_loss: 59.8576 - dense_8_RootMeanSquaredError: 19.7441 - dense_8_loss: 345.8844 - loss: 411.7284 - val_aux_output_RootMeanSquaredError: 25.1726 - val_aux_output_loss: 61.3099 - val_dense_8_RootMeanSquaredError: 18.8676 - val_dense_8_loss: 309.9641 - val_loss: 383.7532\n",
      "Epoch 8/20\n",
      "\u001b[1m9/9\u001b[0m \u001b[32m━━━━━━━━━━━━━━━━━━━━\u001b[0m\u001b[37m\u001b[0m \u001b[1m0s\u001b[0m 7ms/step - aux_output_RootMeanSquaredError: 24.8171 - aux_output_loss: 60.7395 - dense_8_RootMeanSquaredError: 19.0554 - dense_8_loss: 320.5986 - loss: 388.6644 - val_aux_output_RootMeanSquaredError: 24.8892 - val_aux_output_loss: 60.2222 - val_dense_8_RootMeanSquaredError: 17.6223 - val_dense_8_loss: 269.5608 - val_loss: 341.4384\n",
      "Epoch 9/20\n",
      "\u001b[1m9/9\u001b[0m \u001b[32m━━━━━━━━━━━━━━━━━━━━\u001b[0m\u001b[37m\u001b[0m \u001b[1m0s\u001b[0m 7ms/step - aux_output_RootMeanSquaredError: 23.9277 - aux_output_loss: 56.9819 - dense_8_RootMeanSquaredError: 17.3351 - dense_8_loss: 266.9671 - loss: 327.8472 - val_aux_output_RootMeanSquaredError: 24.4457 - val_aux_output_loss: 58.3959 - val_dense_8_RootMeanSquaredError: 16.2287 - val_dense_8_loss: 227.7262 - val_loss: 296.7923\n",
      "Epoch 10/20\n",
      "\u001b[1m9/9\u001b[0m \u001b[32m━━━━━━━━━━━━━━━━━━━━\u001b[0m\u001b[37m\u001b[0m \u001b[1m0s\u001b[0m 5ms/step - aux_output_RootMeanSquaredError: 24.3057 - aux_output_loss: 58.1167 - dense_8_RootMeanSquaredError: 16.8038 - dense_8_loss: 249.8978 - loss: 313.7027 - val_aux_output_RootMeanSquaredError: 23.7964 - val_aux_output_loss: 55.6691 - val_dense_8_RootMeanSquaredError: 14.5808 - val_dense_8_loss: 182.1052 - val_loss: 247.9680\n",
      "Epoch 11/20\n",
      "\u001b[1m9/9\u001b[0m \u001b[32m━━━━━━━━━━━━━━━━━━━━\u001b[0m\u001b[37m\u001b[0m \u001b[1m0s\u001b[0m 7ms/step - aux_output_RootMeanSquaredError: 23.3861 - aux_output_loss: 53.9293 - dense_8_RootMeanSquaredError: 15.2259 - dense_8_loss: 204.9325 - loss: 263.6104 - val_aux_output_RootMeanSquaredError: 22.9155 - val_aux_output_loss: 52.0612 - val_dense_8_RootMeanSquaredError: 13.0048 - val_dense_8_loss: 142.3497 - val_loss: 204.7235\n",
      "Epoch 12/20\n",
      "\u001b[1m9/9\u001b[0m \u001b[32m━━━━━━━━━━━━━━━━━━━━\u001b[0m\u001b[37m\u001b[0m \u001b[1m0s\u001b[0m 7ms/step - aux_output_RootMeanSquaredError: 21.9756 - aux_output_loss: 47.6361 - dense_8_RootMeanSquaredError: 13.4508 - dense_8_loss: 161.1262 - loss: 212.6223 - val_aux_output_RootMeanSquaredError: 21.7325 - val_aux_output_loss: 47.4128 - val_dense_8_RootMeanSquaredError: 11.6238 - val_dense_8_loss: 110.4616 - val_loss: 168.8308\n",
      "Epoch 13/20\n",
      "\u001b[1m9/9\u001b[0m \u001b[32m━━━━━━━━━━━━━━━━━━━━\u001b[0m\u001b[37m\u001b[0m \u001b[1m0s\u001b[0m 8ms/step - aux_output_RootMeanSquaredError: 21.2626 - aux_output_loss: 45.8710 - dense_8_RootMeanSquaredError: 12.5798 - dense_8_loss: 145.5458 - loss: 188.0133 - val_aux_output_RootMeanSquaredError: 20.2030 - val_aux_output_loss: 41.3745 - val_dense_8_RootMeanSquaredError: 10.5459 - val_dense_8_loss: 86.6725 - val_loss: 140.9096\n",
      "Epoch 14/20\n",
      "\u001b[1m9/9\u001b[0m \u001b[32m━━━━━━━━━━━━━━━━━━━━\u001b[0m\u001b[37m\u001b[0m \u001b[1m0s\u001b[0m 7ms/step - aux_output_RootMeanSquaredError: 19.1193 - aux_output_loss: 36.2479 - dense_8_RootMeanSquaredError: 11.3550 - dense_8_loss: 114.9945 - loss: 152.9159 - val_aux_output_RootMeanSquaredError: 18.4035 - val_aux_output_loss: 34.6932 - val_dense_8_RootMeanSquaredError: 9.6901 - val_dense_8_loss: 69.0825 - val_loss: 118.3765\n",
      "Epoch 15/20\n",
      "\u001b[1m9/9\u001b[0m \u001b[32m━━━━━━━━━━━━━━━━━━━━\u001b[0m\u001b[37m\u001b[0m \u001b[1m0s\u001b[0m 6ms/step - aux_output_RootMeanSquaredError: 18.2086 - aux_output_loss: 32.9543 - dense_8_RootMeanSquaredError: 11.2820 - dense_8_loss: 113.6856 - loss: 148.5560 - val_aux_output_RootMeanSquaredError: 16.5326 - val_aux_output_loss: 28.2967 - val_dense_8_RootMeanSquaredError: 9.0787 - val_dense_8_loss: 57.4464 - val_loss: 101.5135\n",
      "Epoch 16/20\n",
      "\u001b[1m9/9\u001b[0m \u001b[32m━━━━━━━━━━━━━━━━━━━━\u001b[0m\u001b[37m\u001b[0m \u001b[1m0s\u001b[0m 5ms/step - aux_output_RootMeanSquaredError: 16.8792 - aux_output_loss: 28.9625 - dense_8_RootMeanSquaredError: 10.8585 - dense_8_loss: 108.4087 - loss: 135.6383 - val_aux_output_RootMeanSquaredError: 14.7369 - val_aux_output_loss: 22.7063 - val_dense_8_RootMeanSquaredError: 8.6157 - val_dense_8_loss: 49.8257 - val_loss: 88.5256\n",
      "Epoch 17/20\n",
      "\u001b[1m9/9\u001b[0m \u001b[32m━━━━━━━━━━━━━━━━━━━━\u001b[0m\u001b[37m\u001b[0m \u001b[1m0s\u001b[0m 6ms/step - aux_output_RootMeanSquaredError: 14.5733 - aux_output_loss: 21.3429 - dense_8_RootMeanSquaredError: 9.5110 - dense_8_loss: 80.9099 - loss: 102.8601 - val_aux_output_RootMeanSquaredError: 13.0206 - val_aux_output_loss: 17.6701 - val_dense_8_RootMeanSquaredError: 8.1869 - val_dense_8_loss: 43.6221 - val_loss: 77.2771\n",
      "Epoch 18/20\n",
      "\u001b[1m9/9\u001b[0m \u001b[32m━━━━━━━━━━━━━━━━━━━━\u001b[0m\u001b[37m\u001b[0m \u001b[1m0s\u001b[0m 5ms/step - aux_output_RootMeanSquaredError: 12.9270 - aux_output_loss: 18.0138 - dense_8_RootMeanSquaredError: 8.7009 - dense_8_loss: 76.5624 - loss: 84.9957 - val_aux_output_RootMeanSquaredError: 11.4736 - val_aux_output_loss: 13.6225 - val_dense_8_RootMeanSquaredError: 7.8409 - val_dense_8_loss: 39.4147 - val_loss: 68.4955\n",
      "Epoch 19/20\n",
      "\u001b[1m9/9\u001b[0m \u001b[32m━━━━━━━━━━━━━━━━━━━━\u001b[0m\u001b[37m\u001b[0m \u001b[1m0s\u001b[0m 7ms/step - aux_output_RootMeanSquaredError: 12.1619 - aux_output_loss: 14.6050 - dense_8_RootMeanSquaredError: 8.8601 - dense_8_loss: 69.3414 - loss: 85.6383 - val_aux_output_RootMeanSquaredError: 10.1314 - val_aux_output_loss: 10.4879 - val_dense_8_RootMeanSquaredError: 7.4365 - val_dense_8_loss: 35.0387 - val_loss: 60.0354\n",
      "Epoch 20/20\n",
      "\u001b[1m9/9\u001b[0m \u001b[32m━━━━━━━━━━━━━━━━━━━━\u001b[0m\u001b[37m\u001b[0m \u001b[1m0s\u001b[0m 5ms/step - aux_output_RootMeanSquaredError: 10.8785 - aux_output_loss: 12.5880 - dense_8_RootMeanSquaredError: 8.3715 - dense_8_loss: 68.2661 - loss: 74.9478 - val_aux_output_RootMeanSquaredError: 9.2245 - val_aux_output_loss: 8.6141 - val_dense_8_RootMeanSquaredError: 6.9951 - val_dense_8_loss: 31.4937 - val_loss: 52.5469\n"
     ]
    },
    {
     "data": {
      "image/png": "[encoded data removed]",
      "text/plain": [
       "<Figure size 800x500 with 1 Axes>"
      ]
     },
     "metadata": {},
     "output_type": "display_data"
    }
   ],
   "source": [
    "\n",
    "def create_wide_and_deep_aux_model():\n",
    "    # Wide path\n",
    "    input_wide = tf.keras.layers.Input(shape=(13,))\n",
    "    wide_normalized = tf.keras.layers.BatchNormalization()(input_wide)  # Normalize the wide path input\n",
    "\n",
    "    # Deep path\n",
    "    input_deep = tf.keras.layers.Input(shape=(13,))\n",
    "    deep_normalized = tf.keras.layers.BatchNormalization()(input_deep)  # Normalize the deep path input\n",
    "    hidden1 = tf.keras.layers.Dense(30, activation=\"relu\", kernel_initializer=\"he_normal\")(deep_normalized)\n",
    "    hidden2 = tf.keras.layers.Dense(30, activation=\"relu\", kernel_initializer=\"he_normal\")(hidden1)\n",
    "\n",
    "    # Auxiliary output (from the second hidden layer of the deep path)\n",
    "    auxiliary_output = tf.keras.layers.Dense(1, name=\"aux_output\")(hidden2)\n",
    "\n",
    "    # Concatenate the outputs of the wide and deep paths\n",
    "    concatenated = tf.keras.layers.concatenate([wide_normalized, hidden2])\n",
    "\n",
    "    # Main output layer\n",
    "    main_output = tf.keras.layers.Dense(1)(concatenated)\n",
    "\n",
    "    # Model creation with two outputs\n",
    "    model = tf.keras.models.Model(inputs=[input_wide, input_deep], outputs=[main_output, auxiliary_output])\n",
    "\n",
    "    return model\n",
    "\n",
    "# Training\n",
    "model_wide_deep_aux = create_wide_and_deep_aux_model()\n",
    "model_wide_deep_aux.compile(\n",
    "    loss=[\"mse\", \"mse\"],\n",
    "    loss_weights=[0.9, 0.1],\n",
    "    optimizer=\"adam\",\n",
    "    metrics=[\"RootMeanSquaredError\", \"RootMeanSquaredError\"])\n",
    "\n",
    "history_wide_deep_aux = model_wide_deep_aux.fit(\n",
    "    [X_train_wide, X_train_deep], [y_train, y_train],\n",
    "    epochs=20,\n",
    "    validation_data=([X_valid_wide, X_valid_deep], [y_valid, y_valid]))\n",
    "\n",
    "plot_learning_curves(history_wide_deep_aux)"
   ]
  },
  {
   "cell_type": "markdown",
   "metadata": {},
   "source": [
    "\n",
    "## Part 4: Analysis\n",
    "\n",
    "1. Compare the training curves for all three models. Which architecture learns fastest?\n",
    "2. Calculate and compare the test set performance for each model.\n",
    "3. What are the advantages and disadvantages of each architecture based on your results?\n"
   ]
  },
  {
   "cell_type": "code",
   "execution_count": null,
   "metadata": {},
   "outputs": [],
   "source": [
    "\n",
    "\n",
    "# TODO: Evaluate each model on the test set and compare results\n",
    "\n",
    "\n",
    "# Example comparison table structure:\n",
    "results = {\n",
    "    'Model': ['Sequential', 'Wide & Deep', 'Wide & Deep with Aux'],\n",
    "    'Test RMSE': [0, 0, 0],  # Fill with your results\n",
    "    'Training Time': [0, 0, 0]  # Fill with your results\n",
    "}\n",
    "pd.DataFrame(results)\n",
    "\n"
   ]
  },
  {
   "cell_type": "code",
   "execution_count": 7,
   "metadata": {},
   "outputs": [
    {
     "name": "stdout",
     "output_type": "stream",
     "text": [
      "                  Model  Test RMSE  Training Time (seconds)\n",
      "0            Sequential   6.504048                 0.067202\n",
      "1           Wide & Deep   6.331578                 0.081527\n",
      "2  Wide & Deep with Aux  42.038654                 0.066226\n"
     ]
    }
   ],
   "source": [
    "import time\n",
    "import numpy as np\n",
    "import pandas as pd\n",
    "from sklearn.metrics import mean_squared_error\n",
    "\n",
    "# Function to evaluate a model and return RMSE and training time\n",
    "def evaluate_model(model, X_test_wide, X_test_deep, y_test):\n",
    "    start_time = time.time()  # Start timer\n",
    "    \n",
    "    # If the model has multiple outputs (Wide & Deep with Aux model)\n",
    "    if isinstance(model.output, list):  # Check if model has auxiliary output\n",
    "        y_pred, _ = model.predict([X_test_wide, X_test_deep])  # Get main prediction (ignoring auxiliary)\n",
    "    else:\n",
    "        y_pred = model.predict([X_test_wide, X_test_deep])  # Single output models\n",
    "    \n",
    "    # Calculate RMSE\n",
    "    rmse = np.sqrt(mean_squared_error(y_test, y_pred))\n",
    "    \n",
    "    # Measure training time\n",
    "    training_time = time.time() - start_time\n",
    "    \n",
    "    return rmse, training_time\n",
    "\n",
    "# Evaluate Sequential Model\n",
    "start_time_sequential = time.time()\n",
    "rmse_sequential = model_sequential.evaluate(X_test_scaled, y_test, verbose=0)[1]  # Get RMSE from evaluation\n",
    "time_sequential = time.time() - start_time_sequential\n",
    "\n",
    "# Evaluate Wide & Deep Model\n",
    "start_time_wide_deep = time.time()\n",
    "rmse_wide_deep = model_wide_deep.evaluate([X_test_wide, X_test_deep], y_test, verbose=0)[1]  # Get RMSE\n",
    "time_wide_deep = time.time() - start_time_wide_deep\n",
    "\n",
    "# Evaluate Wide & Deep with Auxiliary Model\n",
    "start_time_wide_deep_aux = time.time()\n",
    "rmse_wide_deep_aux = model_wide_deep_aux.evaluate([X_test_wide, X_test_deep], [y_test, y_test], verbose=0)[1]  # Get RMSE\n",
    "time_wide_deep_aux = time.time() - start_time_wide_deep_aux\n",
    "\n",
    "# Create comparison table with results\n",
    "results = {\n",
    "    'Model': ['Sequential', 'Wide & Deep', 'Wide & Deep with Aux'],\n",
    "    'Test RMSE': [rmse_sequential, rmse_wide_deep, rmse_wide_deep_aux],\n",
    "    'Training Time (seconds)': [time_sequential, time_wide_deep, time_wide_deep_aux]\n",
    "}\n",
    "\n",
    "# Convert results to DataFrame for easier viewing\n",
    "results_df = pd.DataFrame(results)\n",
    "print(results_df)\n"
   ]
  },
  {
   "cell_type": "markdown",
   "metadata": {},
   "source": [
    "\n",
    "## Bonus Challenge\n",
    "\n",
    "Modify the wide & deep architecture to include dropout layers and experiment with different learning rates. Does this improve performance?"
   ]
  },
  {
   "cell_type": "markdown",
   "metadata": {},
   "source": []
  },
  {
   "cell_type": "markdown",
   "metadata": {},
   "source": [
    "# Exercise 2: Custom Activation Functions and Their Impact\n",
    "\n",
    "In this exercise, you'll implement custom activation functions and compare their performance with standard activations. You'll use the Wine Quality dataset, which is small but provides an interesting regression problem.\n",
    "\n",
    "## Setup\n"
   ]
  },
  {
   "cell_type": "code",
   "execution_count": 8,
   "metadata": {},
   "outputs": [],
   "source": [
    "\n",
    "import tensorflow as tf\n",
    "import numpy as np\n",
    "import pandas as pd\n",
    "import matplotlib.pyplot as plt\n",
    "from sklearn.model_selection import train_test_split\n",
    "from sklearn.preprocessing import StandardScaler\n",
    "import time\n",
    "\n",
    "# Load Wine Quality dataset\n",
    "wine_data = pd.read_csv('https://archive.ics.uci.edu/ml/machine-learning-databases/wine-quality/winequality-red.csv', sep=';')\n",
    "X = wine_data.drop('quality', axis=1).values\n",
    "y = wine_data['quality'].values\n",
    "\n",
    "# Split and scale the data\n",
    "X_train_full, X_test, y_train_full, y_test = train_test_split(X, y, test_size=0.2, random_state=42)\n",
    "X_train, X_valid, y_train, y_valid = train_test_split(X_train_full, y_train_full, test_size=0.2, random_state=42)\n",
    "\n",
    "scaler = StandardScaler()\n",
    "X_train_scaled = scaler.fit_transform(X_train)\n",
    "X_valid_scaled = scaler.transform(X_valid)\n",
    "X_test_scaled = scaler.transform(X_test)\n",
    "\n",
    "# Utility function for plotting\n",
    "def plot_activation_functions(activation_functions, x_range=(-5, 5)):\n",
    "    x = np.linspace(x_range[0], x_range[1], 200)\n",
    "    plt.figure(figsize=(12, 4))\n",
    "    \n",
    "    for name, fn in activation_functions.items():\n",
    "        y = fn(x)\n",
    "        plt.plot(x, y, label=name)\n",
    "    \n",
    "    plt.grid(True)\n",
    "    plt.legend()\n",
    "    plt.title(\"Activation Functions\")\n",
    "    plt.xlabel(\"x\")\n",
    "    plt.ylabel(\"f(x)\")\n",
    "    plt.show()\n"
   ]
  },
  {
   "cell_type": "markdown",
   "metadata": {},
   "source": [
    "\n",
    "## Part 1: Implementing Custom Activation Functions\n",
    "\n",
    "Implement the following custom activation functions:\n",
    "\n",
    "1. Mish: f(x) = x * tanh(softplus(x))\n",
    "2. Swish: f(x) = x * sigmoid(x)\n",
    "3. A custom variant of your choice (be creative!)\n"
   ]
  },
  {
   "cell_type": "code",
   "execution_count": 12,
   "metadata": {},
   "outputs": [
    {
     "name": "stdout",
     "output_type": "stream",
     "text": [
      "Test outputs:\n",
      "Mish: [-0.25250146 -0.30340144  0.          0.86509836  1.943959  ]\n",
      "Swish: [-0.23840584 -0.26894143  0.          0.7310586   1.7615942 ]\n",
      "Custom Variant: [-0.55214506 -0.31830025  0.          0.68169975  1.4478549 ]\n"
     ]
    },
    {
     "data": {
      "image/png": "[encoded data removed]",
      "text/plain": [
       "<Figure size 1200x400 with 1 Axes>"
      ]
     },
     "metadata": {},
     "output_type": "display_data"
    }
   ],
   "source": [
    "\n",
    "def custom_mish(x):\n",
    "    return x * tf.math.tanh(tf.math.softplus(x))\n",
    "\n",
    "def custom_swish(x):\n",
    "    return x * tf.math.sigmoid(x)\n",
    "\n",
    "def custom_variant(x):\n",
    "    return x * tf.math.sigmoid(tf.math.tanh(x))\n",
    "\n",
    "# Test your implementations\n",
    "activation_functions = {\n",
    "    \"Mish\": custom_mish,\n",
    "    \"Swish\": custom_swish,\n",
    "    \"Custom Variant\": custom_variant\n",
    "}\n",
    "\n",
    "# Create test input\n",
    "test_input = tf.constant([-2.0, -1.0, 0.0, 1.0, 2.0])\n",
    "print(\"Test outputs:\")\n",
    "for name, fn in activation_functions.items():\n",
    "    print(f\"{name}: {fn(test_input).numpy()}\")\n",
    "\n",
    "# Plot the activation functions\n",
    "plot_activation_functions(activation_functions)\n",
    "\n"
   ]
  },
  {
   "cell_type": "markdown",
   "metadata": {},
   "source": [
    "\n",
    "## Part 2: Creating Models with Custom Activations\n",
    "\n",
    "Create a function that builds a model using a given activation function:\n",
    "\n"
   ]
  },
  {
   "cell_type": "code",
   "execution_count": null,
   "metadata": {},
   "outputs": [],
   "source": [
    "\n",
    "def create_model(activation_fn, input_shape=[11]):\n",
    "    # TODO: Implement a model with:\n",
    "    # - 3 Dense layers (64, 32, 1 neurons)\n",
    "    # - Custom activation for hidden layers\n",
    "    # - No activation for output layer\n",
    "    # - He initialization for weights\n",
    "    return None\n",
    "\n",
    "# Create models with different activations\n",
    "activations_to_test = {\n",
    "    \"ReLU\": tf.nn.relu,\n",
    "    \"Mish\": custom_mish,\n",
    "    \"Swish\": custom_swish,\n",
    "    \"Custom\": custom_variant\n",
    "}\n",
    "\n",
    "models = {name: create_model(fn) for name, fn in activations_to_test.items()}\n"
   ]
  },
  {
   "cell_type": "code",
   "execution_count": 13,
   "metadata": {},
   "outputs": [
    {
     "name": "stdout",
     "output_type": "stream",
     "text": [
      "ReLU model summary:\n"
     ]
    },
    {
     "name": "stderr",
     "output_type": "stream",
     "text": [
      "/home/codespace/.python/current/lib/python3.12/site-packages/keras/src/layers/core/input_layer.py:26: UserWarning: Argument `input_shape` is deprecated. Use `shape` instead.\n",
      "  warnings.warn(\n"
     ]
    },
    {
     "data": {
      "text/html": [
       "<pre style=\"white-space:pre;overflow-x:auto;line-height:normal;font-family:Menlo,'DejaVu Sans Mono',consolas,'Courier New',monospace\"><span style=\"font-weight: bold\">Model: \"sequential_1\"</span>\n",
       "</pre>\n"
      ],
      "text/plain": [
       "\u001b[1mModel: \"sequential_1\"\u001b[0m\n"
      ]
     },
     "metadata": {},
     "output_type": "display_data"
    },
    {
     "data": {
      "text/html": [
       "<pre style=\"white-space:pre;overflow-x:auto;line-height:normal;font-family:Menlo,'DejaVu Sans Mono',consolas,'Courier New',monospace\">┏━━━━━━━━━━━━━━━━━━━━━━━━━━━━━━━━━┳━━━━━━━━━━━━━━━━━━━━━━━━┳━━━━━━━━━━━━━━━┓\n",
       "┃<span style=\"font-weight: bold\"> Layer (type)                    </span>┃<span style=\"font-weight: bold\"> Output Shape           </span>┃<span style=\"font-weight: bold\">       Param # </span>┃\n",
       "┡━━━━━━━━━━━━━━━━━━━━━━━━━━━━━━━━━╇━━━━━━━━━━━━━━━━━━━━━━━━╇━━━━━━━━━━━━━━━┩\n",
       "│ dense_9 (<span style=\"color: #0087ff; text-decoration-color: #0087ff\">Dense</span>)                 │ (<span style=\"color: #00d7ff; text-decoration-color: #00d7ff\">None</span>, <span style=\"color: #00af00; text-decoration-color: #00af00\">64</span>)             │           <span style=\"color: #00af00; text-decoration-color: #00af00\">768</span> │\n",
       "├─────────────────────────────────┼────────────────────────┼───────────────┤\n",
       "│ dense_10 (<span style=\"color: #0087ff; text-decoration-color: #0087ff\">Dense</span>)                │ (<span style=\"color: #00d7ff; text-decoration-color: #00d7ff\">None</span>, <span style=\"color: #00af00; text-decoration-color: #00af00\">32</span>)             │         <span style=\"color: #00af00; text-decoration-color: #00af00\">2,080</span> │\n",
       "├─────────────────────────────────┼────────────────────────┼───────────────┤\n",
       "│ dense_11 (<span style=\"color: #0087ff; text-decoration-color: #0087ff\">Dense</span>)                │ (<span style=\"color: #00d7ff; text-decoration-color: #00d7ff\">None</span>, <span style=\"color: #00af00; text-decoration-color: #00af00\">1</span>)              │            <span style=\"color: #00af00; text-decoration-color: #00af00\">33</span> │\n",
       "└─────────────────────────────────┴────────────────────────┴───────────────┘\n",
       "</pre>\n"
      ],
      "text/plain": [
       "┏━━━━━━━━━━━━━━━━━━━━━━━━━━━━━━━━━┳━━━━━━━━━━━━━━━━━━━━━━━━┳━━━━━━━━━━━━━━━┓\n",
       "┃\u001b[1m \u001b[0m\u001b[1mLayer (type)                   \u001b[0m\u001b[1m \u001b[0m┃\u001b[1m \u001b[0m\u001b[1mOutput Shape          \u001b[0m\u001b[1m \u001b[0m┃\u001b[1m \u001b[0m\u001b[1m      Param #\u001b[0m\u001b[1m \u001b[0m┃\n",
       "┡━━━━━━━━━━━━━━━━━━━━━━━━━━━━━━━━━╇━━━━━━━━━━━━━━━━━━━━━━━━╇━━━━━━━━━━━━━━━┩\n",
       "│ dense_9 (\u001b[38;5;33mDense\u001b[0m)                 │ (\u001b[38;5;45mNone\u001b[0m, \u001b[38;5;34m64\u001b[0m)             │           \u001b[38;5;34m768\u001b[0m │\n",
       "├─────────────────────────────────┼────────────────────────┼───────────────┤\n",
       "│ dense_10 (\u001b[38;5;33mDense\u001b[0m)                │ (\u001b[38;5;45mNone\u001b[0m, \u001b[38;5;34m32\u001b[0m)             │         \u001b[38;5;34m2,080\u001b[0m │\n",
       "├─────────────────────────────────┼────────────────────────┼───────────────┤\n",
       "│ dense_11 (\u001b[38;5;33mDense\u001b[0m)                │ (\u001b[38;5;45mNone\u001b[0m, \u001b[38;5;34m1\u001b[0m)              │            \u001b[38;5;34m33\u001b[0m │\n",
       "└─────────────────────────────────┴────────────────────────┴───────────────┘\n"
      ]
     },
     "metadata": {},
     "output_type": "display_data"
    },
    {
     "data": {
      "text/html": [
       "<pre style=\"white-space:pre;overflow-x:auto;line-height:normal;font-family:Menlo,'DejaVu Sans Mono',consolas,'Courier New',monospace\"><span style=\"font-weight: bold\"> Total params: </span><span style=\"color: #00af00; text-decoration-color: #00af00\">2,881</span> (11.25 KB)\n",
       "</pre>\n"
      ],
      "text/plain": [
       "\u001b[1m Total params: \u001b[0m\u001b[38;5;34m2,881\u001b[0m (11.25 KB)\n"
      ]
     },
     "metadata": {},
     "output_type": "display_data"
    },
    {
     "data": {
      "text/html": [
       "<pre style=\"white-space:pre;overflow-x:auto;line-height:normal;font-family:Menlo,'DejaVu Sans Mono',consolas,'Courier New',monospace\"><span style=\"font-weight: bold\"> Trainable params: </span><span style=\"color: #00af00; text-decoration-color: #00af00\">2,881</span> (11.25 KB)\n",
       "</pre>\n"
      ],
      "text/plain": [
       "\u001b[1m Trainable params: \u001b[0m\u001b[38;5;34m2,881\u001b[0m (11.25 KB)\n"
      ]
     },
     "metadata": {},
     "output_type": "display_data"
    },
    {
     "data": {
      "text/html": [
       "<pre style=\"white-space:pre;overflow-x:auto;line-height:normal;font-family:Menlo,'DejaVu Sans Mono',consolas,'Courier New',monospace\"><span style=\"font-weight: bold\"> Non-trainable params: </span><span style=\"color: #00af00; text-decoration-color: #00af00\">0</span> (0.00 B)\n",
       "</pre>\n"
      ],
      "text/plain": [
       "\u001b[1m Non-trainable params: \u001b[0m\u001b[38;5;34m0\u001b[0m (0.00 B)\n"
      ]
     },
     "metadata": {},
     "output_type": "display_data"
    },
    {
     "name": "stdout",
     "output_type": "stream",
     "text": [
      "\n",
      "\n",
      "Mish model summary:\n"
     ]
    },
    {
     "data": {
      "text/html": [
       "<pre style=\"white-space:pre;overflow-x:auto;line-height:normal;font-family:Menlo,'DejaVu Sans Mono',consolas,'Courier New',monospace\"><span style=\"font-weight: bold\">Model: \"sequential_2\"</span>\n",
       "</pre>\n"
      ],
      "text/plain": [
       "\u001b[1mModel: \"sequential_2\"\u001b[0m\n"
      ]
     },
     "metadata": {},
     "output_type": "display_data"
    },
    {
     "data": {
      "text/html": [
       "<pre style=\"white-space:pre;overflow-x:auto;line-height:normal;font-family:Menlo,'DejaVu Sans Mono',consolas,'Courier New',monospace\">┏━━━━━━━━━━━━━━━━━━━━━━━━━━━━━━━━━┳━━━━━━━━━━━━━━━━━━━━━━━━┳━━━━━━━━━━━━━━━┓\n",
       "┃<span style=\"font-weight: bold\"> Layer (type)                    </span>┃<span style=\"font-weight: bold\"> Output Shape           </span>┃<span style=\"font-weight: bold\">       Param # </span>┃\n",
       "┡━━━━━━━━━━━━━━━━━━━━━━━━━━━━━━━━━╇━━━━━━━━━━━━━━━━━━━━━━━━╇━━━━━━━━━━━━━━━┩\n",
       "│ dense_12 (<span style=\"color: #0087ff; text-decoration-color: #0087ff\">Dense</span>)                │ (<span style=\"color: #00d7ff; text-decoration-color: #00d7ff\">None</span>, <span style=\"color: #00af00; text-decoration-color: #00af00\">64</span>)             │           <span style=\"color: #00af00; text-decoration-color: #00af00\">768</span> │\n",
       "├─────────────────────────────────┼────────────────────────┼───────────────┤\n",
       "│ dense_13 (<span style=\"color: #0087ff; text-decoration-color: #0087ff\">Dense</span>)                │ (<span style=\"color: #00d7ff; text-decoration-color: #00d7ff\">None</span>, <span style=\"color: #00af00; text-decoration-color: #00af00\">32</span>)             │         <span style=\"color: #00af00; text-decoration-color: #00af00\">2,080</span> │\n",
       "├─────────────────────────────────┼────────────────────────┼───────────────┤\n",
       "│ dense_14 (<span style=\"color: #0087ff; text-decoration-color: #0087ff\">Dense</span>)                │ (<span style=\"color: #00d7ff; text-decoration-color: #00d7ff\">None</span>, <span style=\"color: #00af00; text-decoration-color: #00af00\">1</span>)              │            <span style=\"color: #00af00; text-decoration-color: #00af00\">33</span> │\n",
       "└─────────────────────────────────┴────────────────────────┴───────────────┘\n",
       "</pre>\n"
      ],
      "text/plain": [
       "┏━━━━━━━━━━━━━━━━━━━━━━━━━━━━━━━━━┳━━━━━━━━━━━━━━━━━━━━━━━━┳━━━━━━━━━━━━━━━┓\n",
       "┃\u001b[1m \u001b[0m\u001b[1mLayer (type)                   \u001b[0m\u001b[1m \u001b[0m┃\u001b[1m \u001b[0m\u001b[1mOutput Shape          \u001b[0m\u001b[1m \u001b[0m┃\u001b[1m \u001b[0m\u001b[1m      Param #\u001b[0m\u001b[1m \u001b[0m┃\n",
       "┡━━━━━━━━━━━━━━━━━━━━━━━━━━━━━━━━━╇━━━━━━━━━━━━━━━━━━━━━━━━╇━━━━━━━━━━━━━━━┩\n",
       "│ dense_12 (\u001b[38;5;33mDense\u001b[0m)                │ (\u001b[38;5;45mNone\u001b[0m, \u001b[38;5;34m64\u001b[0m)             │           \u001b[38;5;34m768\u001b[0m │\n",
       "├─────────────────────────────────┼────────────────────────┼───────────────┤\n",
       "│ dense_13 (\u001b[38;5;33mDense\u001b[0m)                │ (\u001b[38;5;45mNone\u001b[0m, \u001b[38;5;34m32\u001b[0m)             │         \u001b[38;5;34m2,080\u001b[0m │\n",
       "├─────────────────────────────────┼────────────────────────┼───────────────┤\n",
       "│ dense_14 (\u001b[38;5;33mDense\u001b[0m)                │ (\u001b[38;5;45mNone\u001b[0m, \u001b[38;5;34m1\u001b[0m)              │            \u001b[38;5;34m33\u001b[0m │\n",
       "└─────────────────────────────────┴────────────────────────┴───────────────┘\n"
      ]
     },
     "metadata": {},
     "output_type": "display_data"
    },
    {
     "data": {
      "text/html": [
       "<pre style=\"white-space:pre;overflow-x:auto;line-height:normal;font-family:Menlo,'DejaVu Sans Mono',consolas,'Courier New',monospace\"><span style=\"font-weight: bold\"> Total params: </span><span style=\"color: #00af00; text-decoration-color: #00af00\">2,881</span> (11.25 KB)\n",
       "</pre>\n"
      ],
      "text/plain": [
       "\u001b[1m Total params: \u001b[0m\u001b[38;5;34m2,881\u001b[0m (11.25 KB)\n"
      ]
     },
     "metadata": {},
     "output_type": "display_data"
    },
    {
     "data": {
      "text/html": [
       "<pre style=\"white-space:pre;overflow-x:auto;line-height:normal;font-family:Menlo,'DejaVu Sans Mono',consolas,'Courier New',monospace\"><span style=\"font-weight: bold\"> Trainable params: </span><span style=\"color: #00af00; text-decoration-color: #00af00\">2,881</span> (11.25 KB)\n",
       "</pre>\n"
      ],
      "text/plain": [
       "\u001b[1m Trainable params: \u001b[0m\u001b[38;5;34m2,881\u001b[0m (11.25 KB)\n"
      ]
     },
     "metadata": {},
     "output_type": "display_data"
    },
    {
     "data": {
      "text/html": [
       "<pre style=\"white-space:pre;overflow-x:auto;line-height:normal;font-family:Menlo,'DejaVu Sans Mono',consolas,'Courier New',monospace\"><span style=\"font-weight: bold\"> Non-trainable params: </span><span style=\"color: #00af00; text-decoration-color: #00af00\">0</span> (0.00 B)\n",
       "</pre>\n"
      ],
      "text/plain": [
       "\u001b[1m Non-trainable params: \u001b[0m\u001b[38;5;34m0\u001b[0m (0.00 B)\n"
      ]
     },
     "metadata": {},
     "output_type": "display_data"
    },
    {
     "name": "stdout",
     "output_type": "stream",
     "text": [
      "\n",
      "\n",
      "Swish model summary:\n"
     ]
    },
    {
     "data": {
      "text/html": [
       "<pre style=\"white-space:pre;overflow-x:auto;line-height:normal;font-family:Menlo,'DejaVu Sans Mono',consolas,'Courier New',monospace\"><span style=\"font-weight: bold\">Model: \"sequential_3\"</span>\n",
       "</pre>\n"
      ],
      "text/plain": [
       "\u001b[1mModel: \"sequential_3\"\u001b[0m\n"
      ]
     },
     "metadata": {},
     "output_type": "display_data"
    },
    {
     "data": {
      "text/html": [
       "<pre style=\"white-space:pre;overflow-x:auto;line-height:normal;font-family:Menlo,'DejaVu Sans Mono',consolas,'Courier New',monospace\">┏━━━━━━━━━━━━━━━━━━━━━━━━━━━━━━━━━┳━━━━━━━━━━━━━━━━━━━━━━━━┳━━━━━━━━━━━━━━━┓\n",
       "┃<span style=\"font-weight: bold\"> Layer (type)                    </span>┃<span style=\"font-weight: bold\"> Output Shape           </span>┃<span style=\"font-weight: bold\">       Param # </span>┃\n",
       "┡━━━━━━━━━━━━━━━━━━━━━━━━━━━━━━━━━╇━━━━━━━━━━━━━━━━━━━━━━━━╇━━━━━━━━━━━━━━━┩\n",
       "│ dense_15 (<span style=\"color: #0087ff; text-decoration-color: #0087ff\">Dense</span>)                │ (<span style=\"color: #00d7ff; text-decoration-color: #00d7ff\">None</span>, <span style=\"color: #00af00; text-decoration-color: #00af00\">64</span>)             │           <span style=\"color: #00af00; text-decoration-color: #00af00\">768</span> │\n",
       "├─────────────────────────────────┼────────────────────────┼───────────────┤\n",
       "│ dense_16 (<span style=\"color: #0087ff; text-decoration-color: #0087ff\">Dense</span>)                │ (<span style=\"color: #00d7ff; text-decoration-color: #00d7ff\">None</span>, <span style=\"color: #00af00; text-decoration-color: #00af00\">32</span>)             │         <span style=\"color: #00af00; text-decoration-color: #00af00\">2,080</span> │\n",
       "├─────────────────────────────────┼────────────────────────┼───────────────┤\n",
       "│ dense_17 (<span style=\"color: #0087ff; text-decoration-color: #0087ff\">Dense</span>)                │ (<span style=\"color: #00d7ff; text-decoration-color: #00d7ff\">None</span>, <span style=\"color: #00af00; text-decoration-color: #00af00\">1</span>)              │            <span style=\"color: #00af00; text-decoration-color: #00af00\">33</span> │\n",
       "└─────────────────────────────────┴────────────────────────┴───────────────┘\n",
       "</pre>\n"
      ],
      "text/plain": [
       "┏━━━━━━━━━━━━━━━━━━━━━━━━━━━━━━━━━┳━━━━━━━━━━━━━━━━━━━━━━━━┳━━━━━━━━━━━━━━━┓\n",
       "┃\u001b[1m \u001b[0m\u001b[1mLayer (type)                   \u001b[0m\u001b[1m \u001b[0m┃\u001b[1m \u001b[0m\u001b[1mOutput Shape          \u001b[0m\u001b[1m \u001b[0m┃\u001b[1m \u001b[0m\u001b[1m      Param #\u001b[0m\u001b[1m \u001b[0m┃\n",
       "┡━━━━━━━━━━━━━━━━━━━━━━━━━━━━━━━━━╇━━━━━━━━━━━━━━━━━━━━━━━━╇━━━━━━━━━━━━━━━┩\n",
       "│ dense_15 (\u001b[38;5;33mDense\u001b[0m)                │ (\u001b[38;5;45mNone\u001b[0m, \u001b[38;5;34m64\u001b[0m)             │           \u001b[38;5;34m768\u001b[0m │\n",
       "├─────────────────────────────────┼────────────────────────┼───────────────┤\n",
       "│ dense_16 (\u001b[38;5;33mDense\u001b[0m)                │ (\u001b[38;5;45mNone\u001b[0m, \u001b[38;5;34m32\u001b[0m)             │         \u001b[38;5;34m2,080\u001b[0m │\n",
       "├─────────────────────────────────┼────────────────────────┼───────────────┤\n",
       "│ dense_17 (\u001b[38;5;33mDense\u001b[0m)                │ (\u001b[38;5;45mNone\u001b[0m, \u001b[38;5;34m1\u001b[0m)              │            \u001b[38;5;34m33\u001b[0m │\n",
       "└─────────────────────────────────┴────────────────────────┴───────────────┘\n"
      ]
     },
     "metadata": {},
     "output_type": "display_data"
    },
    {
     "data": {
      "text/html": [
       "<pre style=\"white-space:pre;overflow-x:auto;line-height:normal;font-family:Menlo,'DejaVu Sans Mono',consolas,'Courier New',monospace\"><span style=\"font-weight: bold\"> Total params: </span><span style=\"color: #00af00; text-decoration-color: #00af00\">2,881</span> (11.25 KB)\n",
       "</pre>\n"
      ],
      "text/plain": [
       "\u001b[1m Total params: \u001b[0m\u001b[38;5;34m2,881\u001b[0m (11.25 KB)\n"
      ]
     },
     "metadata": {},
     "output_type": "display_data"
    },
    {
     "data": {
      "text/html": [
       "<pre style=\"white-space:pre;overflow-x:auto;line-height:normal;font-family:Menlo,'DejaVu Sans Mono',consolas,'Courier New',monospace\"><span style=\"font-weight: bold\"> Trainable params: </span><span style=\"color: #00af00; text-decoration-color: #00af00\">2,881</span> (11.25 KB)\n",
       "</pre>\n"
      ],
      "text/plain": [
       "\u001b[1m Trainable params: \u001b[0m\u001b[38;5;34m2,881\u001b[0m (11.25 KB)\n"
      ]
     },
     "metadata": {},
     "output_type": "display_data"
    },
    {
     "data": {
      "text/html": [
       "<pre style=\"white-space:pre;overflow-x:auto;line-height:normal;font-family:Menlo,'DejaVu Sans Mono',consolas,'Courier New',monospace\"><span style=\"font-weight: bold\"> Non-trainable params: </span><span style=\"color: #00af00; text-decoration-color: #00af00\">0</span> (0.00 B)\n",
       "</pre>\n"
      ],
      "text/plain": [
       "\u001b[1m Non-trainable params: \u001b[0m\u001b[38;5;34m0\u001b[0m (0.00 B)\n"
      ]
     },
     "metadata": {},
     "output_type": "display_data"
    },
    {
     "name": "stdout",
     "output_type": "stream",
     "text": [
      "\n",
      "\n",
      "Custom model summary:\n"
     ]
    },
    {
     "data": {
      "text/html": [
       "<pre style=\"white-space:pre;overflow-x:auto;line-height:normal;font-family:Menlo,'DejaVu Sans Mono',consolas,'Courier New',monospace\"><span style=\"font-weight: bold\">Model: \"sequential_4\"</span>\n",
       "</pre>\n"
      ],
      "text/plain": [
       "\u001b[1mModel: \"sequential_4\"\u001b[0m\n"
      ]
     },
     "metadata": {},
     "output_type": "display_data"
    },
    {
     "data": {
      "text/html": [
       "<pre style=\"white-space:pre;overflow-x:auto;line-height:normal;font-family:Menlo,'DejaVu Sans Mono',consolas,'Courier New',monospace\">┏━━━━━━━━━━━━━━━━━━━━━━━━━━━━━━━━━┳━━━━━━━━━━━━━━━━━━━━━━━━┳━━━━━━━━━━━━━━━┓\n",
       "┃<span style=\"font-weight: bold\"> Layer (type)                    </span>┃<span style=\"font-weight: bold\"> Output Shape           </span>┃<span style=\"font-weight: bold\">       Param # </span>┃\n",
       "┡━━━━━━━━━━━━━━━━━━━━━━━━━━━━━━━━━╇━━━━━━━━━━━━━━━━━━━━━━━━╇━━━━━━━━━━━━━━━┩\n",
       "│ dense_18 (<span style=\"color: #0087ff; text-decoration-color: #0087ff\">Dense</span>)                │ (<span style=\"color: #00d7ff; text-decoration-color: #00d7ff\">None</span>, <span style=\"color: #00af00; text-decoration-color: #00af00\">64</span>)             │           <span style=\"color: #00af00; text-decoration-color: #00af00\">768</span> │\n",
       "├─────────────────────────────────┼────────────────────────┼───────────────┤\n",
       "│ dense_19 (<span style=\"color: #0087ff; text-decoration-color: #0087ff\">Dense</span>)                │ (<span style=\"color: #00d7ff; text-decoration-color: #00d7ff\">None</span>, <span style=\"color: #00af00; text-decoration-color: #00af00\">32</span>)             │         <span style=\"color: #00af00; text-decoration-color: #00af00\">2,080</span> │\n",
       "├─────────────────────────────────┼────────────────────────┼───────────────┤\n",
       "│ dense_20 (<span style=\"color: #0087ff; text-decoration-color: #0087ff\">Dense</span>)                │ (<span style=\"color: #00d7ff; text-decoration-color: #00d7ff\">None</span>, <span style=\"color: #00af00; text-decoration-color: #00af00\">1</span>)              │            <span style=\"color: #00af00; text-decoration-color: #00af00\">33</span> │\n",
       "└─────────────────────────────────┴────────────────────────┴───────────────┘\n",
       "</pre>\n"
      ],
      "text/plain": [
       "┏━━━━━━━━━━━━━━━━━━━━━━━━━━━━━━━━━┳━━━━━━━━━━━━━━━━━━━━━━━━┳━━━━━━━━━━━━━━━┓\n",
       "┃\u001b[1m \u001b[0m\u001b[1mLayer (type)                   \u001b[0m\u001b[1m \u001b[0m┃\u001b[1m \u001b[0m\u001b[1mOutput Shape          \u001b[0m\u001b[1m \u001b[0m┃\u001b[1m \u001b[0m\u001b[1m      Param #\u001b[0m\u001b[1m \u001b[0m┃\n",
       "┡━━━━━━━━━━━━━━━━━━━━━━━━━━━━━━━━━╇━━━━━━━━━━━━━━━━━━━━━━━━╇━━━━━━━━━━━━━━━┩\n",
       "│ dense_18 (\u001b[38;5;33mDense\u001b[0m)                │ (\u001b[38;5;45mNone\u001b[0m, \u001b[38;5;34m64\u001b[0m)             │           \u001b[38;5;34m768\u001b[0m │\n",
       "├─────────────────────────────────┼────────────────────────┼───────────────┤\n",
       "│ dense_19 (\u001b[38;5;33mDense\u001b[0m)                │ (\u001b[38;5;45mNone\u001b[0m, \u001b[38;5;34m32\u001b[0m)             │         \u001b[38;5;34m2,080\u001b[0m │\n",
       "├─────────────────────────────────┼────────────────────────┼───────────────┤\n",
       "│ dense_20 (\u001b[38;5;33mDense\u001b[0m)                │ (\u001b[38;5;45mNone\u001b[0m, \u001b[38;5;34m1\u001b[0m)              │            \u001b[38;5;34m33\u001b[0m │\n",
       "└─────────────────────────────────┴────────────────────────┴───────────────┘\n"
      ]
     },
     "metadata": {},
     "output_type": "display_data"
    },
    {
     "data": {
      "text/html": [
       "<pre style=\"white-space:pre;overflow-x:auto;line-height:normal;font-family:Menlo,'DejaVu Sans Mono',consolas,'Courier New',monospace\"><span style=\"font-weight: bold\"> Total params: </span><span style=\"color: #00af00; text-decoration-color: #00af00\">2,881</span> (11.25 KB)\n",
       "</pre>\n"
      ],
      "text/plain": [
       "\u001b[1m Total params: \u001b[0m\u001b[38;5;34m2,881\u001b[0m (11.25 KB)\n"
      ]
     },
     "metadata": {},
     "output_type": "display_data"
    },
    {
     "data": {
      "text/html": [
       "<pre style=\"white-space:pre;overflow-x:auto;line-height:normal;font-family:Menlo,'DejaVu Sans Mono',consolas,'Courier New',monospace\"><span style=\"font-weight: bold\"> Trainable params: </span><span style=\"color: #00af00; text-decoration-color: #00af00\">2,881</span> (11.25 KB)\n",
       "</pre>\n"
      ],
      "text/plain": [
       "\u001b[1m Trainable params: \u001b[0m\u001b[38;5;34m2,881\u001b[0m (11.25 KB)\n"
      ]
     },
     "metadata": {},
     "output_type": "display_data"
    },
    {
     "data": {
      "text/html": [
       "<pre style=\"white-space:pre;overflow-x:auto;line-height:normal;font-family:Menlo,'DejaVu Sans Mono',consolas,'Courier New',monospace\"><span style=\"font-weight: bold\"> Non-trainable params: </span><span style=\"color: #00af00; text-decoration-color: #00af00\">0</span> (0.00 B)\n",
       "</pre>\n"
      ],
      "text/plain": [
       "\u001b[1m Non-trainable params: \u001b[0m\u001b[38;5;34m0\u001b[0m (0.00 B)\n"
      ]
     },
     "metadata": {},
     "output_type": "display_data"
    },
    {
     "name": "stdout",
     "output_type": "stream",
     "text": [
      "\n",
      "\n"
     ]
    }
   ],
   "source": [
    "def create_model(activation_fn, input_shape=[11]):\n",
    "    # Initialize the model\n",
    "    model = tf.keras.Sequential()\n",
    "    \n",
    "    # Input layer (implicitly defined by the input_shape in the first Dense layer)\n",
    "    model.add(tf.keras.layers.InputLayer(input_shape=input_shape))\n",
    "    \n",
    "    # First hidden layer (64 neurons, custom activation, He initialization)\n",
    "    model.add(tf.keras.layers.Dense(64, activation=activation_fn, kernel_initializer='he_normal'))\n",
    "    \n",
    "    # Second hidden layer (32 neurons, custom activation, He initialization)\n",
    "    model.add(tf.keras.layers.Dense(32, activation=activation_fn, kernel_initializer='he_normal'))\n",
    "    \n",
    "    # Output layer (1 neuron, no activation)\n",
    "    model.add(tf.keras.layers.Dense(1))  # Linear output for regression\n",
    "    \n",
    "    return model\n",
    "\n",
    "# Create models with different activations\n",
    "activations_to_test = {\n",
    "    \"ReLU\": tf.nn.relu,          # Standard ReLU activation\n",
    "    \"Mish\": custom_mish,         # Custom Mish activation\n",
    "    \"Swish\": custom_swish,       # Custom Swish activation\n",
    "    \"Custom\": custom_variant     # Custom variant activation\n",
    "}\n",
    "\n",
    "# Creating a model for each activation function\n",
    "models = {name: create_model(fn) for name, fn in activations_to_test.items()}\n",
    "\n",
    "# Printing the models summary to verify\n",
    "for name, model in models.items():\n",
    "    print(f\"{name} model summary:\")\n",
    "    model.summary()\n",
    "    print(\"\\n\")\n"
   ]
  },
  {
   "cell_type": "markdown",
   "metadata": {},
   "source": [
    "\n",
    "## Part 3: Training and Comparison\n",
    "\n",
    "Train each model and compare their performance:\n"
   ]
  },
  {
   "cell_type": "code",
   "execution_count": null,
   "metadata": {},
   "outputs": [],
   "source": [
    "\n",
    "def train_and_evaluate(model, name):\n",
    "    # TODO: Implement training and evaluation\n",
    "    # - Compile model with appropriate loss and metrics\n",
    "    # - Train for 20 epochs\n",
    "    # - Record training time and history\n",
    "    # - Evaluate on test set\n",
    "    # Return training time, history, and test score\n",
    "    return None\n",
    "\n",
    "# Dictionary to store results\n",
    "results = {}\n",
    "\n",
    "# Train and evaluate each model\n",
    "for name, model in models.items():\n",
    "    print(f\"\\nTraining model with {name} activation:\")\n",
    "    results[name] = train_and_evaluate(model, name)\n",
    "\n",
    "# TODO: Create a comparison DataFrame with:\n",
    "# - Training time\n",
    "# - Final training loss\n",
    "# - Final validation loss\n",
    "# - Test score\n",
    "\n"
   ]
  },
  {
   "cell_type": "code",
   "execution_count": 14,
   "metadata": {},
   "outputs": [
    {
     "name": "stdout",
     "output_type": "stream",
     "text": [
      "\n",
      "Training model with ReLU activation:\n",
      "\n",
      "Training model with Mish activation:\n",
      "\n",
      "Training model with Swish activation:\n",
      "\n",
      "Training model with Custom activation:\n",
      "\n",
      "Model Comparison:\n",
      "    Model  Training Time (seconds)  Final Training Loss  \\\n",
      "0    ReLU                 4.228416             0.866458   \n",
      "1    Mish                 2.563396             0.555281   \n",
      "2   Swish                 2.505514             0.672839   \n",
      "3  Custom                 2.804208             0.894621   \n",
      "\n",
      "   Final Validation Loss  Test Score  \n",
      "0               1.078883    0.901676  \n",
      "1               0.696382    0.608865  \n",
      "2               0.729338    0.638083  \n",
      "3               0.958287    0.922469  \n"
     ]
    }
   ],
   "source": [
    "import time\n",
    "import tensorflow as tf\n",
    "import pandas as pd\n",
    "\n",
    "# Train and evaluate the model\n",
    "def train_and_evaluate(model, name):\n",
    "    # Compile model with Mean Squared Error (MSE) for regression, and metrics for performance\n",
    "    model.compile(optimizer='adam', \n",
    "                  loss='mean_squared_error', \n",
    "                  metrics=['mean_squared_error'])\n",
    "    \n",
    "    # Train for 20 epochs and record training time\n",
    "    start_time = time.time()\n",
    "    history = model.fit(X_train_scaled, y_train, \n",
    "                        validation_data=(X_valid_scaled, y_valid), \n",
    "                        epochs=20, \n",
    "                        batch_size=32, \n",
    "                        verbose=0)  # Set verbose=0 to hide the training output\n",
    "    \n",
    "    training_time = time.time() - start_time\n",
    "    \n",
    "    # Evaluate on the test set\n",
    "    test_loss, test_score = model.evaluate(X_test_scaled, y_test, verbose=0)\n",
    "    \n",
    "    # Return training time, history, and test score\n",
    "    return {\n",
    "        'training_time': training_time,\n",
    "        'history': history.history,\n",
    "        'test_score': test_score\n",
    "    }\n",
    "\n",
    "# Dictionary to store results\n",
    "results = {}\n",
    "\n",
    "# Train and evaluate each model\n",
    "for name, model in models.items():\n",
    "    print(f\"\\nTraining model with {name} activation:\")\n",
    "    results[name] = train_and_evaluate(model, name)\n",
    "\n",
    "# Create a comparison DataFrame\n",
    "comparison_data = {\n",
    "    \"Model\": [],\n",
    "    \"Training Time (seconds)\": [],\n",
    "    \"Final Training Loss\": [],\n",
    "    \"Final Validation Loss\": [],\n",
    "    \"Test Score\": []\n",
    "}\n",
    "\n",
    "# Populate the comparison data\n",
    "for name, result in results.items():\n",
    "    comparison_data[\"Model\"].append(name)\n",
    "    comparison_data[\"Training Time (seconds)\"].append(result['training_time'])\n",
    "    comparison_data[\"Final Training Loss\"].append(result['history']['loss'][-1])\n",
    "    comparison_data[\"Final Validation Loss\"].append(result['history']['val_loss'][-1])\n",
    "    comparison_data[\"Test Score\"].append(result['test_score'])\n",
    "\n",
    "# Create the comparison DataFrame\n",
    "comparison_df = pd.DataFrame(comparison_data)\n",
    "\n",
    "# Display the comparison\n",
    "print(\"\\nModel Comparison:\")\n",
    "print(comparison_df)\n"
   ]
  },
  {
   "cell_type": "markdown",
   "metadata": {},
   "source": [
    "\n",
    "## Part 4: Visualization and Analysis\n",
    "\n",
    "Create visualizations to compare the performance of different activation functions:\n"
   ]
  },
  {
   "cell_type": "code",
   "execution_count": null,
   "metadata": {},
   "outputs": [],
   "source": [
    "\n",
    "\n",
    "def plot_training_curves(results):\n",
    "    # TODO: Create plots comparing:\n",
    "    # - Training loss over time\n",
    "    # - Validation loss over time\n",
    "    # - Training vs validation loss for each activation\n",
    "    pass\n",
    "\n",
    "# Create visualizations\n",
    "plot_training_curves(results)\n",
    "\n",
    "# TODO: Calculate and display additional metrics like:\n",
    "# - Training speed (examples/second)\n",
    "# - Number of parameters\n",
    "# - Memory usage\n",
    "\n"
   ]
  },
  {
   "cell_type": "markdown",
   "metadata": {},
   "source": [
    "\n",
    "## Part 5: Analysis Questions\n",
    "\n",
    "1. Which activation function performed best in terms of:\n",
    "   - Final model accuracy?\n",
    "   - Training speed?\n",
    "   - Convergence stability?\n",
    "\n",
    "2. Why do you think your custom activation function performed the way it did?\n",
    "\n",
    "3. What are the tradeoffs between the different activation functions you tested?\n",
    "\n",
    "## Bonus Challenge\n",
    "\n",
    "1. Implement a parametric version of your custom activation function where some aspects of the function can be learned during training.\n",
    "\n",
    "2. Try using your activation functions with different optimizers (Adam, SGD, RMSprop) and learning rates. Do some activation functions work better with certain optimizers?"
   ]
  },
  {
   "cell_type": "markdown",
   "metadata": {},
   "source": [
    "# Exercise 3: Batch Normalization Placement and Effects\n",
    "\n",
    "In this exercise, you'll experiment with different batch normalization strategies and analyze their impact on model training and performance. You'll use the Fashion MNIST dataset but work with a smaller subset to keep computation manageable.\n",
    "\n",
    "## Setup\n",
    "\n"
   ]
  },
  {
   "cell_type": "code",
   "execution_count": null,
   "metadata": {},
   "outputs": [],
   "source": [
    "\n",
    "import tensorflow as tf\n",
    "import numpy as np\n",
    "import pandas as pd\n",
    "import matplotlib.pyplot as plt\n",
    "from time import time\n",
    "\n",
    "# Load and preprocess Fashion MNIST data\n",
    "fashion_mnist = tf.keras.datasets.fashion_mnist.load_data()\n",
    "(X_train_full, y_train_full), (X_test, y_test) = fashion_mnist\n",
    "\n",
    "# Take a subset of the data to keep computation manageable\n",
    "X_train = X_train_full[:10000] / 255.0\n",
    "y_train = y_train_full[:10000]\n",
    "X_valid = X_train_full[10000:12000] / 255.0\n",
    "y_valid = y_train_full[10000:12000]\n",
    "X_test = X_test[:2000] / 255.0\n",
    "y_test = y_test[:2000]\n",
    "\n",
    "# Reshape for CNN input\n",
    "X_train = X_train.reshape(-1, 28, 28, 1)\n",
    "X_valid = X_valid.reshape(-1, 28, 28, 1)\n",
    "X_test = X_test.reshape(-1, 28, 28, 1)\n",
    "\n",
    "# Class names for reference\n",
    "class_names = [\"T-shirt/top\", \"Trouser\", \"Pullover\", \"Dress\", \"Coat\",\n",
    "               \"Sandal\", \"Shirt\", \"Sneaker\", \"Bag\", \"Ankle boot\"]\n",
    "\n",
    "# Utility function for plotting training history\n",
    "def plot_learning_curves(history, metrics=['loss', 'accuracy']):\n",
    "    fig, axes = plt.subplots(1, len(metrics), figsize=(15, 5))\n",
    "    if len(metrics) == 1:\n",
    "        axes = [axes]\n",
    "    \n",
    "    for ax, metric in zip(axes, metrics):\n",
    "        ax.plot(history.history[metric], label='Train')\n",
    "        ax.plot(history.history[f'val_{metric}'], label='Validation')\n",
    "        ax.set_title(f'Model {metric.capitalize()}')\n",
    "        ax.set_xlabel('Epoch')\n",
    "        ax.set_ylabel(metric.capitalize())\n",
    "        ax.legend()\n",
    "        ax.grid(True)\n",
    "    \n",
    "    plt.tight_layout()\n",
    "    plt.show()\n",
    "\n"
   ]
  },
  {
   "cell_type": "markdown",
   "metadata": {},
   "source": [
    "\n",
    "## Part 1: Baseline Model Without Batch Normalization\n",
    "\n",
    "First, create a baseline CNN model without any batch normalization:\n"
   ]
  },
  {
   "cell_type": "code",
   "execution_count": null,
   "metadata": {},
   "outputs": [],
   "source": [
    "\n",
    "def create_baseline_model():\n",
    "    # TODO: Create a CNN with:\n",
    "    # - 2 convolutional layers (32 and 64 filters)\n",
    "    # - MaxPooling after each conv layer\n",
    "    # - Dense layer with 128 neurons\n",
    "    # - Output layer with 10 neurons (softmax)\n",
    "    # Use ReLU activation for hidden layers\n",
    "    model = None # Your code here\n",
    "    return model\n",
    "\n",
    "# Train baseline model\n",
    "baseline_model = create_baseline_model()\n",
    "baseline_model.compile(optimizer='adam',\n",
    "                      loss='sparse_categorical_crossentropy',\n",
    "                      metrics=['accuracy'])\n",
    "\n",
    "baseline_history = baseline_model.fit(\n",
    "    X_train, y_train,\n",
    "    epochs=10,\n",
    "    validation_data=(X_valid, y_valid))\n",
    "\n",
    "plot_learning_curves(baseline_history)\n"
   ]
  },
  {
   "cell_type": "markdown",
   "metadata": {},
   "source": [
    "\n",
    "\n",
    "## Part 2: Batch Normalization After Activation\n",
    "\n",
    "Implement a model with batch normalization layers placed after activation functions:\n"
   ]
  },
  {
   "cell_type": "code",
   "execution_count": null,
   "metadata": {},
   "outputs": [],
   "source": [
    "\n",
    "\n",
    "def create_bn_after_activation_model():\n",
    "    # TODO: Create a CNN with the same architecture as baseline, but add\n",
    "    # batch normalization layers after each ReLU activation\n",
    "    # Order should be: Conv -> ReLU -> BatchNorm -> MaxPool\n",
    "    model = None # Your code here\n",
    "    return model\n",
    "\n",
    "# Train model\n",
    "bn_after_model = create_bn_after_activation_model()\n",
    "bn_after_model.compile(optimizer='adam',\n",
    "                      loss='sparse_categorical_crossentropy',\n",
    "                      metrics=['accuracy'])\n",
    "\n",
    "bn_after_history = bn_after_model.fit(\n",
    "    X_train, y_train,\n",
    "    epochs=10,\n",
    "    validation_data=(X_valid, y_valid))\n",
    "\n",
    "plot_learning_curves(bn_after_history)\n",
    "\n"
   ]
  },
  {
   "cell_type": "markdown",
   "metadata": {},
   "source": [
    "\n",
    "## Part 3: Batch Normalization Before Activation\n",
    "\n",
    "Implement a model with batch normalization layers placed before activation functions:\n"
   ]
  },
  {
   "cell_type": "code",
   "execution_count": null,
   "metadata": {},
   "outputs": [],
   "source": [
    "\n",
    "def create_bn_before_activation_model():\n",
    "    # TODO: Create a CNN with the same architecture as baseline, but add\n",
    "    # batch normalization layers before each ReLU activation\n",
    "    # Order should be: Conv -> BatchNorm -> ReLU -> MaxPool\n",
    "    model = None # Your code here\n",
    "    return model\n",
    "\n",
    "# Train model\n",
    "bn_before_model = create_bn_before_activation_model()\n",
    "bn_before_model.compile(optimizer='adam',\n",
    "                       loss='sparse_categorical_crossentropy',\n",
    "                       metrics=['accuracy'])\n",
    "\n",
    "bn_before_history = bn_before_model.fit(\n",
    "    X_train, y_train,\n",
    "    epochs=10,\n",
    "    validation_data=(X_valid, y_valid))\n",
    "\n",
    "plot_learning_curves(bn_before_history)\n"
   ]
  },
  {
   "cell_type": "markdown",
   "metadata": {},
   "source": [
    "\n",
    "\n",
    "## Part 4: Analysis\n",
    "\n",
    "Compare the performance of all three models:\n"
   ]
  },
  {
   "cell_type": "code",
   "execution_count": null,
   "metadata": {},
   "outputs": [],
   "source": [
    "\n",
    "def compare_models(histories, names):\n",
    "    # TODO: Create a performance comparison including:\n",
    "    # - Final training accuracy\n",
    "    # - Final validation accuracy\n",
    "    # - Training time\n",
    "    # - Number of parameters\n",
    "    # Return a pandas DataFrame with the results\n",
    "    return None\n",
    "\n",
    "# Example usage:\n",
    "model_histories = {\n",
    "    'Baseline': baseline_history,\n",
    "    'BN After Activation': bn_after_history,\n",
    "    'BN Before Activation': bn_before_history\n",
    "}\n",
    "\n",
    "comparison_df = compare_models(model_histories, list(model_histories.keys()))\n",
    "print(comparison_df)\n",
    "\n",
    "# TODO: Create visualizations comparing:\n",
    "# 1. Training curves (accuracy and loss) for all models\n",
    "# 2. Training time per epoch\n",
    "# 3. Parameter count comparison\n"
   ]
  },
  {
   "cell_type": "markdown",
   "metadata": {},
   "source": [
    "\n",
    "\n",
    "## Part 5: Hyperparameter Sensitivity\n",
    "\n",
    "Test how each model responds to different learning rates:\n",
    "\n"
   ]
  },
  {
   "cell_type": "code",
   "execution_count": null,
   "metadata": {},
   "outputs": [],
   "source": [
    "\n",
    "def test_learning_rates(model_fn, learning_rates=[0.1, 0.01, 0.001]):\n",
    "    results = []\n",
    "    for lr in learning_rates:\n",
    "        # TODO: Train the model with different learning rates\n",
    "        # Record accuracy and stability metrics\n",
    "        pass\n",
    "    return results\n",
    "\n",
    "# Test hyperparameter sensitivity for each model type\n",
    "# Implement your solution here\n"
   ]
  },
  {
   "cell_type": "markdown",
   "metadata": {},
   "source": [
    "\n",
    "\n",
    "## Analysis Questions\n",
    "\n",
    "1. Which batch normalization placement strategy performed best? Why do you think this is the case?\n",
    "\n",
    "2. How did the different models respond to changes in learning rate? Which was most stable?\n",
    "\n",
    "3. What are the tradeoffs between the different approaches in terms of:\n",
    "   - Training time\n",
    "   - Model complexity (number of parameters)\n",
    "   - Final performance\n",
    "   - Training stability\n",
    "\n",
    "## Bonus Challenge\n",
    "\n",
    "1. Implement a version of the model that uses batch normalization with the following modifications:\n",
    "   - Custom batch normalization momentum\n",
    "   - Different initialization strategies for batch normalization parameters\n",
    "   - Experiment with different batch sizes to see how they affect batch normalization's performance\n",
    "\n",
    "2. Add dropout layers to each model variant and compare how batch normalization interacts with dropout when placed in different positions."
   ]
  },
  {
   "cell_type": "markdown",
   "metadata": {},
   "source": [
    "# Exercise 4: Multi-Input Networks for Mixed Data Types\n",
    "\n",
    "In this exercise, you'll build a network that processes both numerical and categorical data to predict car prices using the Auto MPG dataset. You'll implement different architectures for processing each type of data and combine them effectively.\n",
    "\n",
    "## Setup\n"
   ]
  },
  {
   "cell_type": "code",
   "execution_count": null,
   "metadata": {},
   "outputs": [],
   "source": [
    "\n",
    "import tensorflow as tf\n",
    "import pandas as pd\n",
    "import numpy as np\n",
    "from sklearn.model_selection import train_test_split\n",
    "from sklearn.preprocessing import StandardScaler, OneHotEncoder\n",
    "import matplotlib.pyplot as plt\n",
    "\n",
    "# Load and prepare the Auto MPG dataset\n",
    "url = \"https://archive.ics.uci.edu/ml/machine-learning-databases/auto-mpg/auto-mpg.data\"\n",
    "column_names = ['MPG', 'Cylinders', 'Displacement', 'Horsepower', 'Weight',\n",
    "                'Acceleration', 'Model Year', 'Origin', 'Car Name']\n",
    "\n",
    "# Load the raw data\n",
    "df = pd.read_csv(url, names=column_names,\n",
    "                 na_values='?', comment='\\t',\n",
    "                 sep=' ', skipinitialspace=True)\n",
    "\n",
    "# Clean the data\n",
    "df = df.dropna()\n",
    "\n",
    "# Separate features\n",
    "numeric_features = ['Cylinders', 'Displacement', 'Horsepower', 'Weight', 'Acceleration']\n",
    "categorical_features = ['Model Year', 'Origin']\n",
    "target = 'MPG'\n",
    "\n",
    "# Create inputs\n",
    "numeric_data = df[numeric_features]\n",
    "categorical_data = df[categorical_features]\n",
    "target_data = df[target]\n",
    "\n",
    "# Split the data\n",
    "X_num_train_full, X_num_test, X_cat_train_full, X_cat_test, y_train_full, y_test = train_test_split(\n",
    "    numeric_data, categorical_data, target_data, test_size=0.2, random_state=42)\n",
    "\n",
    "X_num_train, X_num_valid, X_cat_train, X_cat_valid, y_train, y_valid = train_test_split(\n",
    "    X_num_train_full, X_cat_train_full, y_train_full, test_size=0.2, random_state=42)\n",
    "\n",
    "# Scale numeric data\n",
    "scaler = StandardScaler()\n",
    "X_num_train_scaled = scaler.fit_transform(X_num_train)\n",
    "X_num_valid_scaled = scaler.transform(X_num_valid)\n",
    "X_num_test_scaled = scaler.transform(X_num_test)\n",
    "\n",
    "# Encode categorical data\n",
    "encoder = OneHotEncoder(sparse=False)\n",
    "X_cat_train_encoded = encoder.fit_transform(X_cat_train)\n",
    "X_cat_valid_encoded = encoder.transform(X_cat_valid)\n",
    "X_cat_test_encoded = encoder.transform(X_cat_test)\n",
    "\n",
    "# Utility function for plotting training history\n",
    "def plot_learning_curves(history):\n",
    "    fig, (ax1, ax2) = plt.subplots(1, 2, figsize=(12, 4))\n",
    "    \n",
    "    ax1.plot(history.history['loss'], label='Training Loss')\n",
    "    ax1.plot(history.history['val_loss'], label='Validation Loss')\n",
    "    ax1.set_xlabel('Epoch')\n",
    "    ax1.set_ylabel('Loss')\n",
    "    ax1.legend()\n",
    "    ax1.grid(True)\n",
    "    \n",
    "    ax2.plot(history.history['mape'], label='Training MAPE')\n",
    "    ax2.plot(history.history['val_mape'], label='Validation MAPE')\n",
    "    ax2.set_xlabel('Epoch')\n",
    "    ax2.set_ylabel('MAPE')\n",
    "    ax2.legend()\n",
    "    ax2.grid(True)\n",
    "    \n",
    "    plt.tight_layout()\n",
    "    plt.show()\n",
    "\n"
   ]
  },
  {
   "cell_type": "markdown",
   "metadata": {},
   "source": [
    "\n",
    "## Part 1: Basic Multi-Input Model\n",
    "\n",
    "Create a basic multi-input model that processes numeric and categorical data separately:\n"
   ]
  },
  {
   "cell_type": "code",
   "execution_count": null,
   "metadata": {},
   "outputs": [],
   "source": [
    "\n",
    "\n",
    "def create_basic_multi_input_model(num_features, cat_features):\n",
    "    # TODO: Create a model with:\n",
    "    # - One input branch for numeric features\n",
    "    # - One input branch for categorical features\n",
    "    # - Dense layers for each branch\n",
    "    # - Concatenated outputs\n",
    "    # - Final prediction layer\n",
    "    # Return both the model and its inputs\n",
    "    return None, None\n",
    "\n",
    "# Create and compile the model\n",
    "num_features = X_num_train_scaled.shape[1]\n",
    "cat_features = X_cat_train_encoded.shape[1]\n",
    "\n",
    "model, inputs = create_basic_multi_input_model(num_features, cat_features)\n",
    "model.compile(optimizer='adam', loss='mse', metrics=['mape'])\n",
    "\n",
    "# Train the model\n",
    "history = model.fit(\n",
    "    [X_num_train_scaled, X_cat_train_encoded],\n",
    "    y_train,\n",
    "    validation_data=([X_num_valid_scaled, X_cat_valid_encoded], y_valid),\n",
    "    epochs=50\n",
    ")\n",
    "\n",
    "plot_learning_curves(history)\n",
    "\n"
   ]
  },
  {
   "cell_type": "markdown",
   "metadata": {},
   "source": [
    "\n",
    "## Part 2: Enhanced Multi-Input Model with Different Branch Depths\n",
    "\n",
    "Create a more sophisticated model with different architectures for numeric and categorical data:\n"
   ]
  },
  {
   "cell_type": "code",
   "execution_count": null,
   "metadata": {},
   "outputs": [],
   "source": [
    "\n",
    "def create_enhanced_multi_input_model(num_features, cat_features):\n",
    "    # TODO: Create a model with:\n",
    "    # - Deep branch for numeric features (3+ layers)\n",
    "    # - Shallow branch for categorical features (1-2 layers)\n",
    "    # - Batch normalization in numeric branch\n",
    "    # - Dropout in both branches\n",
    "    # - Skip connection in numeric branch\n",
    "    # Return both the model and its inputs\n",
    "    return None, None\n",
    "\n",
    "# Create and compile the enhanced model\n",
    "model_enhanced, inputs_enhanced = create_enhanced_multi_input_model(num_features, cat_features)\n",
    "model_enhanced.compile(optimizer='adam', loss='mse', metrics=['mape'])\n",
    "\n",
    "# Train the enhanced model\n",
    "history_enhanced = model_enhanced.fit(\n",
    "    [X_num_train_scaled, X_cat_train_encoded],\n",
    "    y_train,\n",
    "    validation_data=([X_num_valid_scaled, X_cat_valid_encoded], y_valid),\n",
    "    epochs=50\n",
    ")\n",
    "\n",
    "plot_learning_curves(history_enhanced)\n"
   ]
  },
  {
   "cell_type": "markdown",
   "metadata": {},
   "source": [
    "\n",
    "## Part 3: Adding Auxiliary Outputs\n",
    "\n",
    "Modify your enhanced model to include auxiliary outputs for regularization:\n"
   ]
  },
  {
   "cell_type": "code",
   "execution_count": null,
   "metadata": {},
   "outputs": [],
   "source": [
    "\n",
    "\n",
    "def create_multi_output_model(num_features, cat_features):\n",
    "    # TODO: Create a model with:\n",
    "    # - Similar structure to enhanced model\n",
    "    # - Auxiliary output from numeric branch\n",
    "    # - Auxiliary output from categorical branch\n",
    "    # - Main output from combined features\n",
    "    # Return model and inputs\n",
    "    return None, None\n",
    "\n",
    "# Create and compile the multi-output model\n",
    "model_multi_output, inputs_multi_output = create_multi_output_model(num_features, cat_features)\n",
    "model_multi_output.compile(\n",
    "    optimizer='adam',\n",
    "    loss=['mse', 'mse', 'mse'],\n",
    "    loss_weights=[0.7, 0.15, 0.15],\n",
    "    metrics=['mape']\n",
    ")\n",
    "\n",
    "# Train the multi-output model\n",
    "history_multi_output = model_multi_output.fit(\n",
    "    [X_num_train_scaled, X_cat_train_encoded],\n",
    "    [y_train, y_train, y_train],\n",
    "    validation_data=(\n",
    "        [X_num_valid_scaled, X_cat_valid_encoded],\n",
    "        [y_valid, y_valid, y_valid]\n",
    "    ),\n",
    "    epochs=50\n",
    ")\n",
    "\n",
    "plot_learning_curves(history_multi_output)\n",
    "\n"
   ]
  },
  {
   "cell_type": "markdown",
   "metadata": {},
   "source": [
    "\n",
    "## Part 4: Model Comparison and Analysis\n",
    "\n",
    "Compare the performance of all three models:\n"
   ]
  },
  {
   "cell_type": "code",
   "execution_count": null,
   "metadata": {},
   "outputs": [],
   "source": [
    "\n",
    "def compare_models(models, histories, X_test_data, y_test_data):\n",
    "    # TODO: Create a comparison including:\n",
    "    # - Test set performance\n",
    "    # - Training time\n",
    "    # - Number of parameters\n",
    "    # - Best validation performance\n",
    "    # Return a pandas DataFrame with results\n",
    "    return None\n",
    "\n",
    "# Example usage:\n",
    "models = {\n",
    "    'Basic': model,\n",
    "    'Enhanced': model_enhanced,\n",
    "    'Multi-Output': model_multi_output\n",
    "}\n",
    "\n",
    "histories = {\n",
    "    'Basic': history,\n",
    "    'Enhanced': history_enhanced,\n",
    "    'Multi-Output': history_multi_output\n",
    "}\n",
    "\n",
    "comparison_df = compare_models(\n",
    "    models, histories,\n",
    "    [X_num_test_scaled, X_cat_test_encoded],\n",
    "    y_test\n",
    ")\n",
    "print(comparison_df)\n",
    "\n",
    "# TODO: Create visualizations comparing:\n",
    "# 1. Learning curves for all models\n",
    "# 2. Prediction accuracy on test set\n",
    "# 3. Training time comparison\n",
    "\n"
   ]
  },
  {
   "cell_type": "markdown",
   "metadata": {},
   "source": [
    "\n",
    "## Part 5: Feature Importance Analysis\n",
    "\n",
    "Analyze which features contribute most to the predictions:\n"
   ]
  },
  {
   "cell_type": "code",
   "execution_count": null,
   "metadata": {},
   "outputs": [],
   "source": [
    "\n",
    "def analyze_feature_importance(model, feature_names):\n",
    "    # TODO: Implement feature importance analysis\n",
    "    # Hint: Use partial dependence plots or permutation importance\n",
    "    pass\n",
    "\n",
    "# Analyze feature importance for each model\n",
    "numeric_names = numeric_features\n",
    "categorical_names = [f\"{feat}_{val}\" for feat, vals in \n",
    "                    zip(categorical_features, encoder.categories_) \n",
    "                    for val in vals]\n",
    "\n"
   ]
  },
  {
   "cell_type": "markdown",
   "metadata": {},
   "source": [
    "\n",
    "## Analysis Questions\n",
    "\n",
    "1. How did the different architectures affect model performance?\n",
    "2. Which features were most important for predicting MPG?\n",
    "3. Did the auxiliary outputs improve model performance? Why or why not?\n",
    "4. What are the tradeoffs between the three architectures in terms of:\n",
    "   - Training time\n",
    "   - Model complexity\n",
    "   - Prediction accuracy\n",
    "   - Feature interpretability\n",
    "\n",
    "## Bonus Challenge\n",
    "\n",
    "1. Implement a version of the model that:\n",
    "   - Uses different optimizers for different branches\n",
    "   - Implements custom regularization\n",
    "   - Uses a custom loss function that penalizes large errors more heavily"
   ]
  },
  {
   "cell_type": "markdown",
   "metadata": {},
   "source": [
    "# Exercise 5: Analyzing Gradient Flow in Deep Networks\n",
    "\n",
    "In this exercise, you'll build deep networks with different activation functions and analyze how gradients flow through them. You'll create tools to visualize gradient behavior and compare how different activation functions affect training dynamics.\n",
    "\n",
    "## Setup\n"
   ]
  },
  {
   "cell_type": "code",
   "execution_count": null,
   "metadata": {},
   "outputs": [],
   "source": [
    "\n",
    "import tensorflow as tf\n",
    "import numpy as np\n",
    "import pandas as pd\n",
    "import matplotlib.pyplot as plt\n",
    "from tensorflow.keras import layers\n",
    "import seaborn as sns\n",
    "import time\n",
    "\n",
    "# Create a simple synthetic dataset\n",
    "np.random.seed(42)\n",
    "N_SAMPLES = 1000\n",
    "N_FEATURES = 10\n",
    "\n",
    "# Generate synthetic data with clear patterns\n",
    "X = np.random.randn(N_SAMPLES, N_FEATURES)\n",
    "# Create a non-linear relationship\n",
    "y = np.sin(X[:, 0]) + np.square(X[:, 1]) + np.exp(-X[:, 2]) + np.random.randn(N_SAMPLES) * 0.1\n",
    "\n",
    "# Split into train and test sets\n",
    "X_train = X[:800]\n",
    "y_train = y[:800]\n",
    "X_test = X[800:]\n",
    "y_test = y[800:]\n",
    "\n",
    "# Custom callback to track gradients\n",
    "class GradientCallback(tf.keras.callbacks.Callback):\n",
    "    def __init__(self):\n",
    "        super(GradientCallback, self).__init__()\n",
    "        self.gradients = []\n",
    "        \n",
    "    def on_batch_end(self, batch, logs=None):\n",
    "        weights = self.model.trainable_weights\n",
    "        with tf.GradientTape() as tape:\n",
    "            predictions = self.model(X_train[:32])\n",
    "            loss = tf.keras.losses.mean_squared_error(y_train[:32], predictions)\n",
    "        grads = tape.gradient(loss, weights)\n",
    "        self.gradients.append([tf.reduce_mean(tf.abs(g)) for g in grads if g is not None])\n",
    "\n",
    "# Utility function for plotting\n",
    "def plot_gradient_flow(gradients, title):\n",
    "    plt.figure(figsize=(10, 6))\n",
    "    plt.plot(gradients)\n",
    "    plt.title(title)\n",
    "    plt.xlabel('Training Step')\n",
    "    plt.ylabel('Mean Gradient Magnitude')\n",
    "    plt.yscale('log')\n",
    "    plt.grid(True)\n",
    "    plt.show()\n",
    "\n"
   ]
  },
  {
   "cell_type": "markdown",
   "metadata": {},
   "source": [
    "\n",
    "## Part 1: Building Deep Networks with Different Activations\n",
    "\n",
    "Create a function to build deep networks with different activation functions:\n"
   ]
  },
  {
   "cell_type": "code",
   "execution_count": null,
   "metadata": {},
   "outputs": [],
   "source": [
    "\n",
    "\n",
    "def create_deep_network(activation='relu', n_layers=50):\n",
    "    # TODO: Create a deep network with:\n",
    "    # - n_layers dense layers (each with 32 neurons)\n",
    "    # - Specified activation function\n",
    "    # - Proper initialization based on activation\n",
    "    # - Input shape of (N_FEATURES,)\n",
    "    # - Single output neuron\n",
    "    # Use appropriate weight initialization for each activation\n",
    "    return None\n",
    "\n",
    "# Test different activation functions\n",
    "activation_functions = ['relu', 'tanh', 'selu']\n",
    "models = {}\n",
    "for activation in activation_functions:\n",
    "    # TODO: Create and compile model\n",
    "    # Store in models dictionary\n",
    "    pass\n",
    "\n",
    "# Training function\n",
    "def train_model_with_gradient_tracking(model, X_train, y_train, epochs=10):\n",
    "    # TODO: Implement training with gradient tracking\n",
    "    # Return history and gradient information\n",
    "    pass\n",
    "\n"
   ]
  },
  {
   "cell_type": "markdown",
   "metadata": {},
   "source": [
    "\n",
    "## Part 2: Gradient Flow Analysis\n",
    "\n",
    "Implement functions to analyze gradient flow:\n"
   ]
  },
  {
   "cell_type": "code",
   "execution_count": null,
   "metadata": {},
   "outputs": [],
   "source": [
    "\n",
    "def analyze_gradient_statistics(gradients):\n",
    "    # TODO: Calculate and return gradient statistics including:\n",
    "    # - Mean gradient magnitude per layer\n",
    "    # - Gradient variance per layer\n",
    "    # - Layer-wise gradient ratio (consecutive layers)\n",
    "    # Return as pandas DataFrame\n",
    "    return None\n",
    "\n",
    "def plot_gradient_heatmap(gradients, activation_name):\n",
    "    # TODO: Create a heatmap showing gradient magnitudes across:\n",
    "    # - Layers (y-axis)\n",
    "    # - Training steps (x-axis)\n",
    "    pass\n",
    "\n",
    "# Analyze each model\n",
    "for activation, model in models.items():\n",
    "    # TODO: Train model and collect gradient information\n",
    "    # Create visualizations\n",
    "    # Print statistics\n",
    "    pass\n",
    "\n"
   ]
  },
  {
   "cell_type": "markdown",
   "metadata": {},
   "source": [
    "\n",
    "## Part 3: Layer-wise Gradient Evolution\n",
    "\n",
    "Create visualizations showing how gradients evolve through layers:\n"
   ]
  },
  {
   "cell_type": "code",
   "execution_count": null,
   "metadata": {},
   "outputs": [],
   "source": [
    "\n",
    "\n",
    "def plot_layer_gradients(model_gradients, layer_indices=[0, 25, 49]):\n",
    "    # TODO: Create plots showing:\n",
    "    # - Gradient distribution per selected layer\n",
    "    # - Gradient magnitude changes over time\n",
    "    # - Compare early, middle, and late layers\n",
    "    pass\n",
    "\n",
    "def analyze_gradient_vanishing(gradients):\n",
    "    # TODO: Implement metrics to quantify gradient vanishing:\n",
    "    # - Gradient magnitude ratio (last layer / first layer)\n",
    "    # - Layer depth where gradients become very small\n",
    "    # Return metrics as dictionary\n",
    "    return None\n",
    "\n",
    "# Analyze gradient evolution for each model\n",
    "for activation, model in models.items():\n",
    "    # TODO: Generate and plot gradient evolution analysis\n",
    "    pass\n",
    "\n"
   ]
  },
  {
   "cell_type": "markdown",
   "metadata": {},
   "source": [
    "\n",
    "## Part 4: Comparative Analysis\n",
    "\n",
    "Compare the performance of networks with different activations:\n"
   ]
  },
  {
   "cell_type": "code",
   "execution_count": null,
   "metadata": {},
   "outputs": [],
   "source": [
    "\n",
    "\n",
    "def compare_models_performance(models, X_train, y_train, X_test, y_test):\n",
    "    # TODO: Create a comparison including:\n",
    "    # - Training time\n",
    "    # - Final training loss\n",
    "    # - Test loss\n",
    "    # - Gradient stability metrics\n",
    "    # Return as pandas DataFrame\n",
    "    return None\n",
    "\n",
    "# Create comparative visualizations\n",
    "def plot_comparative_results(training_results):\n",
    "    # TODO: Create subplots comparing:\n",
    "    # - Training curves\n",
    "    # - Gradient flow characteristics\n",
    "    # - Final performance metrics\n",
    "    pass\n",
    "\n",
    "# Run comparison\n",
    "results = compare_models_performance(models, X_train, y_train, X_test, y_test)\n",
    "plot_comparative_results(results)\n",
    "\n"
   ]
  },
  {
   "cell_type": "markdown",
   "metadata": {},
   "source": [
    "\n",
    "## Part 5: Improving Gradient Flow\n",
    "\n",
    "Implement techniques to improve gradient flow:\n"
   ]
  },
  {
   "cell_type": "code",
   "execution_count": null,
   "metadata": {},
   "outputs": [],
   "source": [
    "\n",
    "\n",
    "def create_residual_network(activation='relu', n_layers=50):\n",
    "    # TODO: Implement a deep network with residual connections\n",
    "    # Compare with basic deep network\n",
    "    return None\n",
    "\n",
    "def create_highway_network(activation='relu', n_layers=50):\n",
    "    # TODO: Implement a highway network\n",
    "    # Compare with basic deep network\n",
    "    return None\n",
    "\n",
    "# Compare improved architectures\n",
    "improved_models = {\n",
    "    'residual': create_residual_network(),\n",
    "    'highway': create_highway_network()\n",
    "}\n",
    "\n",
    "# Compare with original models\n",
    "final_comparison = compare_models_performance(\n",
    "    {**models, **improved_models},\n",
    "    X_train, y_train, X_test, y_test\n",
    ")\n",
    "\n"
   ]
  },
  {
   "cell_type": "markdown",
   "metadata": {},
   "source": [
    "\n",
    "## Analysis Questions\n",
    "\n",
    "1. Which activation function showed the most stable gradient flow? Why?\n",
    "2. At what depth did gradients start vanishing for each activation function?\n",
    "3. How did residual/highway connections affect gradient flow?\n",
    "4. What are the practical implications of your findings for designing deep networks?\n",
    "\n",
    "## Bonus Challenge\n",
    "\n",
    "1. Implement a custom activation function designed to maintain stable gradients\n",
    "2. Create an adaptive learning rate scheme based on gradient statistics\n",
    "3. Visualize gradient flow in a deep convolutional network"
   ]
  }
 ],
 "metadata": {
  "kernelspec": {
   "display_name": "Python 3",
   "language": "python",
   "name": "python3"
  },
  "language_info": {
   "codemirror_mode": {
    "name": "ipython",
    "version": 3
   },
   "file_extension": ".py",
   "mimetype": "text/x-python",
   "name": "python",
   "nbconvert_exporter": "python",
   "pygments_lexer": "ipython3",
   "version": "3.12.1"
  }
 },
 "nbformat": 4,
 "nbformat_minor": 2
}
